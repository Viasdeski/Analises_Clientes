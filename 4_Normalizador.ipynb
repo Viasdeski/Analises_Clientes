{
 "cells": [
  {
   "cell_type": "code",
   "execution_count": 1,
   "id": "9e68aeac",
   "metadata": {},
   "outputs": [],
   "source": [
    "import pandas as pd\n",
    "import numpy as np\n",
    "import matplotlib.pyplot as plt\n",
    "import seaborn as sns\n",
    "from sklearn.preprocessing import MinMaxScaler, StandardScaler\n",
    "from sklearn.cluster import KMeans\n",
    "from yellowbrick.cluster import KElbowVisualizer, SilhouetteVisualizer\n",
    "from sklearn.metrics import silhouette_score\n",
    "from sklearn.decomposition import PCA\n",
    "from sklearn.preprocessing import Normalizer\n",
    "from sklearn.model_selection import train_test_split"
   ]
  },
  {
   "cell_type": "code",
   "execution_count": 2,
   "id": "e329569d",
   "metadata": {},
   "outputs": [
    {
     "name": "stderr",
     "output_type": "stream",
     "text": [
      "D:\\Anaconda\\lib\\site-packages\\IPython\\core\\interactiveshell.py:3444: DtypeWarning: Columns (6,10) have mixed types.Specify dtype option on import or set low_memory=False.\n",
      "  exec(code_obj, self.user_global_ns, self.user_ns)\n"
     ]
    }
   ],
   "source": [
    "dados = pd.read_csv('./clientes_mes_ano.csv')"
   ]
  },
  {
   "cell_type": "code",
   "execution_count": 3,
   "id": "98f23978",
   "metadata": {
    "scrolled": true
   },
   "outputs": [
    {
     "data": {
      "text/html": [
       "<div>\n",
       "<style scoped>\n",
       "    .dataframe tbody tr th:only-of-type {\n",
       "        vertical-align: middle;\n",
       "    }\n",
       "\n",
       "    .dataframe tbody tr th {\n",
       "        vertical-align: top;\n",
       "    }\n",
       "\n",
       "    .dataframe thead th {\n",
       "        text-align: right;\n",
       "    }\n",
       "</style>\n",
       "<table border=\"1\" class=\"dataframe\">\n",
       "  <thead>\n",
       "    <tr style=\"text-align: right;\">\n",
       "      <th></th>\n",
       "      <th>NROEMPRESA</th>\n",
       "      <th>COD_CLIENTE</th>\n",
       "      <th>TIPO_PESSOA</th>\n",
       "      <th>DATA_ULTIMA_COMPRA</th>\n",
       "      <th>DIAS_DESDE_ULTIMA_COMPRA</th>\n",
       "      <th>NUMERO_VISITAS</th>\n",
       "      <th>VALOR_TOTAL</th>\n",
       "      <th>DIA_SEMANA</th>\n",
       "      <th>QUANTIDADE_PRODUTOS</th>\n",
       "      <th>SEGMENTO</th>\n",
       "      <th>CGO</th>\n",
       "      <th>MES_ANO</th>\n",
       "    </tr>\n",
       "  </thead>\n",
       "  <tbody>\n",
       "    <tr>\n",
       "      <th>0</th>\n",
       "      <td>1</td>\n",
       "      <td>1</td>\n",
       "      <td>J</td>\n",
       "      <td>27/07/24</td>\n",
       "      <td>9</td>\n",
       "      <td>3</td>\n",
       "      <td>365</td>\n",
       "      <td>Domingo</td>\n",
       "      <td>37</td>\n",
       "      <td>1</td>\n",
       "      <td>800</td>\n",
       "      <td>9/2023</td>\n",
       "    </tr>\n",
       "    <tr>\n",
       "      <th>1</th>\n",
       "      <td>2</td>\n",
       "      <td>1</td>\n",
       "      <td>J</td>\n",
       "      <td>27/07/24</td>\n",
       "      <td>9</td>\n",
       "      <td>2</td>\n",
       "      <td>122</td>\n",
       "      <td>Domingo</td>\n",
       "      <td>6</td>\n",
       "      <td>1</td>\n",
       "      <td>800</td>\n",
       "      <td>9/2023</td>\n",
       "    </tr>\n",
       "    <tr>\n",
       "      <th>2</th>\n",
       "      <td>5</td>\n",
       "      <td>1</td>\n",
       "      <td>J</td>\n",
       "      <td>27/07/24</td>\n",
       "      <td>9</td>\n",
       "      <td>10</td>\n",
       "      <td>1607</td>\n",
       "      <td>Domingo</td>\n",
       "      <td>154</td>\n",
       "      <td>1</td>\n",
       "      <td>800</td>\n",
       "      <td>9/2023</td>\n",
       "    </tr>\n",
       "    <tr>\n",
       "      <th>3</th>\n",
       "      <td>1</td>\n",
       "      <td>1</td>\n",
       "      <td>J</td>\n",
       "      <td>27/07/24</td>\n",
       "      <td>9</td>\n",
       "      <td>1</td>\n",
       "      <td>120</td>\n",
       "      <td>Quarta</td>\n",
       "      <td>2</td>\n",
       "      <td>1</td>\n",
       "      <td>800</td>\n",
       "      <td>9/2023</td>\n",
       "    </tr>\n",
       "    <tr>\n",
       "      <th>4</th>\n",
       "      <td>5</td>\n",
       "      <td>1</td>\n",
       "      <td>J</td>\n",
       "      <td>27/07/24</td>\n",
       "      <td>9</td>\n",
       "      <td>7</td>\n",
       "      <td>500</td>\n",
       "      <td>Quarta</td>\n",
       "      <td>43</td>\n",
       "      <td>1</td>\n",
       "      <td>800</td>\n",
       "      <td>9/2023</td>\n",
       "    </tr>\n",
       "  </tbody>\n",
       "</table>\n",
       "</div>"
      ],
      "text/plain": [
       "   NROEMPRESA  COD_CLIENTE TIPO_PESSOA DATA_ULTIMA_COMPRA  \\\n",
       "0           1            1           J           27/07/24   \n",
       "1           2            1           J           27/07/24   \n",
       "2           5            1           J           27/07/24   \n",
       "3           1            1           J           27/07/24   \n",
       "4           5            1           J           27/07/24   \n",
       "\n",
       "   DIAS_DESDE_ULTIMA_COMPRA  NUMERO_VISITAS VALOR_TOTAL     DIA_SEMANA  \\\n",
       "0                         9               3         365  Domingo         \n",
       "1                         9               2         122  Domingo         \n",
       "2                         9              10        1607  Domingo         \n",
       "3                         9               1         120        Quarta    \n",
       "4                         9               7         500        Quarta    \n",
       "\n",
       "   QUANTIDADE_PRODUTOS  SEGMENTO  CGO MES_ANO  \n",
       "0                   37         1  800  9/2023  \n",
       "1                    6         1  800  9/2023  \n",
       "2                  154         1  800  9/2023  \n",
       "3                    2         1  800  9/2023  \n",
       "4                   43         1  800  9/2023  "
      ]
     },
     "execution_count": 3,
     "metadata": {},
     "output_type": "execute_result"
    }
   ],
   "source": [
    "dados.head()"
   ]
  },
  {
   "cell_type": "code",
   "execution_count": null,
   "id": "0f914885",
   "metadata": {},
   "outputs": [],
   "source": [
    "#Removendo linhas indesejáveis para Cgo\n",
    "cgos_remover = dados.query('CGO  not in ((800, 810, 835, 843, 844))').index\n",
    "len(cgos_remover)"
   ]
  },
  {
   "cell_type": "code",
   "execution_count": null,
   "id": "fa75665c",
   "metadata": {},
   "outputs": [],
   "source": [
    "dados.drop(cgos_remover, axis=0, inplace=True)"
   ]
  },
  {
   "cell_type": "markdown",
   "id": "86890e6d",
   "metadata": {},
   "source": [
    "## Verificando valores ausentes e inválidos"
   ]
  },
  {
   "cell_type": "code",
   "execution_count": null,
   "id": "ad58940b",
   "metadata": {},
   "outputs": [],
   "source": [
    "dados.isna().sum()"
   ]
  },
  {
   "cell_type": "code",
   "execution_count": null,
   "id": "ce298c3b",
   "metadata": {},
   "outputs": [],
   "source": [
    "#Verificando se na coluna VALOR_TOTAL possui valores não numéricos\n",
    "mask = pd.to_numeric(dados['VALOR_TOTAL'], errors='coerce').isnull()\n",
    "mask"
   ]
  },
  {
   "cell_type": "code",
   "execution_count": null,
   "id": "c92363ae",
   "metadata": {},
   "outputs": [],
   "source": [
    "#Removendo os NaN\n",
    "dados = dados.dropna(subset=['VALOR_TOTAL'])"
   ]
  },
  {
   "cell_type": "code",
   "execution_count": null,
   "id": "299078c2",
   "metadata": {},
   "outputs": [],
   "source": [
    "#Verificar se ainda há valores não númericos na coluna\n",
    "print(dados['VALOR_TOTAL'].apply(lambda x : isinstance(x,(int, float))).all())"
   ]
  },
  {
   "cell_type": "code",
   "execution_count": null,
   "id": "5470dee0",
   "metadata": {},
   "outputs": [],
   "source": [
    "nao_numerico = dados.query('VALOR_TOTAL == \"Quinta\"')\n",
    "nao_numerico"
   ]
  },
  {
   "cell_type": "code",
   "execution_count": null,
   "id": "bbc07031",
   "metadata": {},
   "outputs": [],
   "source": [
    "dados.dtypes"
   ]
  },
  {
   "cell_type": "code",
   "execution_count": null,
   "id": "8b6fa79b",
   "metadata": {},
   "outputs": [],
   "source": [
    "dados['VALOR_TOTAL'] = dados['VALOR_TOTAL'].astype('int64')\n",
    "dados['COD_CLIENTE'] = dados['COD_CLIENTE'].astype('string')"
   ]
  },
  {
   "cell_type": "code",
   "execution_count": null,
   "id": "d4017c33",
   "metadata": {},
   "outputs": [],
   "source": [
    "dados.dtypes"
   ]
  },
  {
   "cell_type": "code",
   "execution_count": null,
   "id": "273d572c",
   "metadata": {},
   "outputs": [],
   "source": [
    "col_num = dados.select_dtypes(include=['int64', 'float64'])\n",
    "col_var = dados.select_dtypes(exclude=['int64', 'float64'])"
   ]
  },
  {
   "cell_type": "code",
   "execution_count": null,
   "id": "acd3b36d",
   "metadata": {},
   "outputs": [],
   "source": [
    "col_num"
   ]
  },
  {
   "cell_type": "code",
   "execution_count": null,
   "id": "a0202c42",
   "metadata": {},
   "outputs": [],
   "source": [
    "col_var"
   ]
  },
  {
   "cell_type": "markdown",
   "id": "6cfaf6a4",
   "metadata": {},
   "source": [
    "# Preparação e limpeza dos dados"
   ]
  },
  {
   "cell_type": "code",
   "execution_count": null,
   "id": "c2896d57",
   "metadata": {},
   "outputs": [],
   "source": [
    "#df = dados.copy()"
   ]
  },
  {
   "cell_type": "code",
   "execution_count": null,
   "id": "1fc12aba",
   "metadata": {},
   "outputs": [],
   "source": [
    "#df.isnull().sum()"
   ]
  },
  {
   "cell_type": "markdown",
   "id": "c77dd61f",
   "metadata": {},
   "source": [
    "## Remoção de Outliers"
   ]
  },
  {
   "cell_type": "code",
   "execution_count": null,
   "id": "4fbaf01a",
   "metadata": {},
   "outputs": [],
   "source": [
    "\"\"\"# Seleção de características\n",
    "X = df[['DIAS_DESDE_ULTIMA_COMPRA', 'VALOR_TOTAL']]\n",
    "\n",
    "#Normalizando\n",
    "scaler = StandardScaler()\n",
    "X_scaled = scaler.fit_transform(X)\n",
    "\n",
    "#Instanciando o modelo\n",
    "kmeans = KMeans()\n",
    "\n",
    "#Criando o visualizado\n",
    "visualizador = KElbowVisualizer(kmeans, k=(2,15))\n",
    "visualizador.fit(X_scaled)\n",
    "\n",
    "#Mostrando a visualização\n",
    "visualizador.show()\n",
    "\"\"\"\n"
   ]
  },
  {
   "cell_type": "code",
   "execution_count": null,
   "id": "4322e3d5",
   "metadata": {},
   "outputs": [],
   "source": [
    "#Treinamento do modelo de clusterização\n",
    "#X_train, X_test = train_test_split(X_scaled, test_size=0.2, random_state=42)\n",
    "#kmeans = KMeans(n_clusters=1000, random_state=42)\n",
    "#kmeans.fit(X_train)"
   ]
  },
  {
   "cell_type": "code",
   "execution_count": null,
   "id": "2a926e69",
   "metadata": {},
   "outputs": [],
   "source": [
    "#Avaliação do modelo\n",
    "#score = kmeans.score(X_test)\n",
    "#score"
   ]
  },
  {
   "cell_type": "code",
   "execution_count": null,
   "id": "cd785662",
   "metadata": {},
   "outputs": [],
   "source": []
  },
  {
   "cell_type": "code",
   "execution_count": null,
   "id": "59bc2552",
   "metadata": {},
   "outputs": [],
   "source": [
    "#silhueta = silhouette_score(X_scaled, kmeans.labels_)\n",
    "#print(silhueta)"
   ]
  },
  {
   "cell_type": "code",
   "execution_count": null,
   "id": "61d48f51",
   "metadata": {},
   "outputs": [],
   "source": [
    "#from sklearn.metrics import silhouette_score, davies_bouldin_score, calinski_harabasz_score\n",
    "\n",
    "# Calcule o índice de Davies-Bouldin\n",
    "#db_score = davies_bouldin_score(dados_normalizados, kmeans.labels_)\n",
    "#print(\"Índice de Davies-Bouldin:\", db_score)\n",
    "\n",
    "# Calcule o índice de Calinski-Harabasz\n",
    "#ch_score = calinski_harabasz_score(dados_normalizados, kmeans.labels_)\n",
    "#print(\"Índice de Calinski-Harabasz:\", ch_score)"
   ]
  },
  {
   "cell_type": "markdown",
   "id": "9ca8b189",
   "metadata": {},
   "source": [
    "### Exportando como .csv"
   ]
  },
  {
   "cell_type": "code",
   "execution_count": null,
   "id": "6965f5e9",
   "metadata": {},
   "outputs": [],
   "source": [
    "df2 = df.copy()"
   ]
  },
  {
   "cell_type": "code",
   "execution_count": null,
   "id": "fda02aa3",
   "metadata": {},
   "outputs": [],
   "source": [
    "df2 = df2.reset_index(drop=True)"
   ]
  },
  {
   "cell_type": "code",
   "execution_count": null,
   "id": "98489ed5",
   "metadata": {},
   "outputs": [],
   "source": [
    "df2.to_csv('clientes_normalizados_mes_ano.csv')"
   ]
  },
  {
   "cell_type": "code",
   "execution_count": null,
   "id": "4317e215",
   "metadata": {},
   "outputs": [],
   "source": []
  }
 ],
 "metadata": {
  "kernelspec": {
   "display_name": "Python 3 (ipykernel)",
   "language": "python",
   "name": "python3"
  },
  "language_info": {
   "codemirror_mode": {
    "name": "ipython",
    "version": 3
   },
   "file_extension": ".py",
   "mimetype": "text/x-python",
   "name": "python",
   "nbconvert_exporter": "python",
   "pygments_lexer": "ipython3",
   "version": "3.9.7"
  }
 },
 "nbformat": 4,
 "nbformat_minor": 5
}
