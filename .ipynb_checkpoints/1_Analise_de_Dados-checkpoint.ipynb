{
 "cells": [
  {
   "cell_type": "markdown",
   "id": "9c8703da",
   "metadata": {},
   "source": [
    "### Clusterização de Clientes e Criação de Insights\n",
    "\n",
    "    Objetivos do Projeto\n",
    "        Explorar os dados – você precisa fornecer à equipe de marketing um melhor entendimento das características dos respondentes;\n",
    "        Pelo menos 3 insights importantes;\n",
    "        Modele uma segmentação de clientes que possa aumentar o lucro da campanha;\n",
    "        Crie um modelo preditivo para maximizar o lucro da próxima campanha de marketing;\n",
    "        Power Point para apresentação dos resultados.\n",
    "        Contação de histórias de insights.\n",
    "        Modelo que pode ser utilizado pela equipe de negócios e marketing."
   ]
  },
  {
   "cell_type": "markdown",
   "id": "11d0e249",
   "metadata": {},
   "source": [
    "### Planejamento de soluções\n",
    "\n",
    "Como o business case é composto por 3 partes, vou dividir o problema em 3 cadernos diferentes para ficar bem organizado e estruturado. O objetivo do caderno de análise de dados será **analisar o conjunto de dados fornecido e compreender os dados**. \n",
    "\n",
    "Além disso, é necessário criar algumas hipóteses, validá-las por meio de análise exploratória de dados e extrair alguns insights acionáveis. A segunda parte é utilizar alguns métodos para **criar cluster de clientes de acordo com o perfil e utilizá-los para criar algumas recomendações para a campanha de marketing**. Deverá aumentar o lucro, já que visamos clientes específicos.\n",
    "\n",
    "A última parte será o **modelo preditivo**, juntando os resultados gerados pela modelização do clustering, podemos prever se o cliente aceitará a próxima oferta e então calcular o impacto no negócio com base nos inputs do conjunto de dados.\n",
    "\n",
    "    1. Planejamento de Análise de Dados\n",
    "        Compreensão e contexto do negócio\n",
    "        Descrever dados\n",
    "        Criação de hipóteses\n",
    "        Engenharia de recursos\n",
    "        Filtrando Variáveis\n",
    "        Análise exploratória de dados\n",
    "    2. Planejamento de Clustering\n",
    "        Preparação de dados\n",
    "        Seleção de recursos\n",
    "        Cluster de modelagem\n",
    "        Análise de Cluster\n",
    "        Recomendações\n",
    "    3. Planejamento do Modelo Preditivo\n",
    "        Preparação de dados\n",
    "        Seleção de recursos\n",
    "        Modelagem de aprendizado de máquina\n",
    "        Ajuste fino de hiperparâmetros\n",
    "        Avaliação\n",
    "        Impacto nos negócios"
   ]
  },
  {
   "cell_type": "markdown",
   "id": "167bee90",
   "metadata": {},
   "source": [
    "### 0.0 Imports"
   ]
  },
  {
   "cell_type": "code",
   "execution_count": 1,
   "id": "1700b6bc",
   "metadata": {},
   "outputs": [],
   "source": [
    "import pandas as pd\n",
    "import numpy as np\n",
    "import matplotlib.pyplot as plt\n",
    "import seaborn as sns\n",
    "from datetime import date\n",
    "from sklearn.ensemble import RandomForestClassifier\n",
    "from sklearn.ensemble import RandomForestRegressor\n",
    "import shap # usado para explicar modelos de aprendizado de máquina\n",
    "plt.rcParams['axes.axisbelow'] = True #Esta linha modifica um parâmetro em Matplotlib chamado axes.axisbelow. Quando definido como True, ele garante que as linhas de grade e os ticks apareçam abaixo dos pontos de dados plotados. Por padrão, esse parâmetro é False."
   ]
  },
  {
   "cell_type": "markdown",
   "id": "f50d1db5",
   "metadata": {},
   "source": [
    "### 0.1 Funções Auxiliares"
   ]
  },
  {
   "cell_type": "code",
   "execution_count": 2,
   "id": "7c4c4a7c",
   "metadata": {},
   "outputs": [],
   "source": [
    "def descriptive_analysis(numerical_df):\n",
    "    #Medidas de tendência central\n",
    "    #.T = Transpor, ele troca as linhas por colunas no Dataframe\n",
    "    ct1 = pd.DataFrame(numerical_df.apply(np.mean)).T #Média\n",
    "    ct2 = pd.DataFrame(numerical_df.apply(np.median)).T #Mediana\n",
    "    \n",
    "    #Medidas de Dispersão\n",
    "    d1 = pd.DataFrame(numerical_df.apply(np.std)).T #Desvio Padrão\n",
    "    d2 = pd.DataFrame(numerical_df.apply(np.min)).T #Mínimo\n",
    "    d3 = pd.DataFrame(numerical_df.apply(np.max)).T #Máximo\n",
    "    d4 = pd.DataFrame(numerical_df.apply(lambda x : x.max() - x.min())).T #Intervalo\n",
    "    d5 = pd.DataFrame(numerical_df.apply(lambda x : x.skew())).T #Assimetria\n",
    "    d6 = pd.DataFrame(numerical_df.apply(lambda x : x.kurtosis())).T #Pico(Curtose)\n",
    "    \n",
    "    #Concatenando o resultado\n",
    "    m = pd.concat([ct1,ct2,d1,d2,d3,d4,d5,d6]).T.reset_index()\n",
    "    m.columns = ['Atributos', 'Média', 'Mediana', 'DP', 'Min', 'Max', 'Intervalo', 'Inclinação', 'Curtose']\n",
    "    \n",
    "    return m"
   ]
  },
  {
   "cell_type": "code",
   "execution_count": 3,
   "id": "67272383",
   "metadata": {},
   "outputs": [],
   "source": [
    "def camel_to_snake(s):\n",
    "    #Converter CamelCase para snake_style\n",
    "    #.join() = Converte uma String em Lista, enquanto split() = Converte Lista em String\n",
    "    return ''.join(['_'+c.lower() if c.isupper() else c for c in s]).lstrip('_')"
   ]
  },
  {
   "cell_type": "code",
   "execution_count": 4,
   "id": "64b1b1e8",
   "metadata": {},
   "outputs": [],
   "source": [
    "def capping_outliers(df, col):\n",
    "    quantile_10 = df[col].quantile(0.10)\n",
    "    quantile_90 = df[col].quantile(0.90)\n",
    "    \n",
    "    df[col] = np.where(df[col] < quantile_10, quantile_10, df[col])\n",
    "    df[col] = np.where(df[col] > quantile_90, quantile_90, df[col])    \n",
    "    \n",
    "    return df"
   ]
  },
  {
   "cell_type": "markdown",
   "id": "8cab1967",
   "metadata": {},
   "source": [
    "### 0.2 Carregando Dados"
   ]
  },
  {
   "cell_type": "code",
   "execution_count": 5,
   "id": "cefb3d17",
   "metadata": {},
   "outputs": [],
   "source": [
    "df0 = pd.read_csv('./clientes_mes_ano.csv')"
   ]
  },
  {
   "cell_type": "code",
   "execution_count": 6,
   "id": "1432474e",
   "metadata": {},
   "outputs": [
    {
     "data": {
      "text/html": [
       "<div>\n",
       "<style scoped>\n",
       "    .dataframe tbody tr th:only-of-type {\n",
       "        vertical-align: middle;\n",
       "    }\n",
       "\n",
       "    .dataframe tbody tr th {\n",
       "        vertical-align: top;\n",
       "    }\n",
       "\n",
       "    .dataframe thead th {\n",
       "        text-align: right;\n",
       "    }\n",
       "</style>\n",
       "<table border=\"1\" class=\"dataframe\">\n",
       "  <thead>\n",
       "    <tr style=\"text-align: right;\">\n",
       "      <th></th>\n",
       "      <th>NROEMPRESA</th>\n",
       "      <th>COD_CLIENTE</th>\n",
       "      <th>TIPO_PESSOA</th>\n",
       "      <th>DATA_ULTIMA_COMPRA</th>\n",
       "      <th>NUMERO_VISITAS</th>\n",
       "      <th>VALOR_TOTAL</th>\n",
       "      <th>DIA_SEMANA</th>\n",
       "      <th>QUANTIDADE_PRODUTOS</th>\n",
       "      <th>SEGMENTO</th>\n",
       "      <th>CGO</th>\n",
       "      <th>MES_ANO</th>\n",
       "    </tr>\n",
       "  </thead>\n",
       "  <tbody>\n",
       "    <tr>\n",
       "      <th>0</th>\n",
       "      <td>1</td>\n",
       "      <td>1</td>\n",
       "      <td>J</td>\n",
       "      <td>27/07/2024</td>\n",
       "      <td>3</td>\n",
       "      <td>365</td>\n",
       "      <td>Domingo</td>\n",
       "      <td>37</td>\n",
       "      <td>1</td>\n",
       "      <td>800</td>\n",
       "      <td>9/2023</td>\n",
       "    </tr>\n",
       "    <tr>\n",
       "      <th>1</th>\n",
       "      <td>2</td>\n",
       "      <td>1</td>\n",
       "      <td>J</td>\n",
       "      <td>27/07/2024</td>\n",
       "      <td>2</td>\n",
       "      <td>122</td>\n",
       "      <td>Domingo</td>\n",
       "      <td>6</td>\n",
       "      <td>1</td>\n",
       "      <td>800</td>\n",
       "      <td>9/2023</td>\n",
       "    </tr>\n",
       "    <tr>\n",
       "      <th>2</th>\n",
       "      <td>5</td>\n",
       "      <td>1</td>\n",
       "      <td>J</td>\n",
       "      <td>27/07/2024</td>\n",
       "      <td>10</td>\n",
       "      <td>1607</td>\n",
       "      <td>Domingo</td>\n",
       "      <td>154</td>\n",
       "      <td>1</td>\n",
       "      <td>800</td>\n",
       "      <td>9/2023</td>\n",
       "    </tr>\n",
       "    <tr>\n",
       "      <th>3</th>\n",
       "      <td>1</td>\n",
       "      <td>1</td>\n",
       "      <td>J</td>\n",
       "      <td>27/07/2024</td>\n",
       "      <td>1</td>\n",
       "      <td>120</td>\n",
       "      <td>Quarta</td>\n",
       "      <td>2</td>\n",
       "      <td>1</td>\n",
       "      <td>800</td>\n",
       "      <td>9/2023</td>\n",
       "    </tr>\n",
       "    <tr>\n",
       "      <th>4</th>\n",
       "      <td>5</td>\n",
       "      <td>1</td>\n",
       "      <td>J</td>\n",
       "      <td>27/07/2024</td>\n",
       "      <td>7</td>\n",
       "      <td>500</td>\n",
       "      <td>Quarta</td>\n",
       "      <td>43</td>\n",
       "      <td>1</td>\n",
       "      <td>800</td>\n",
       "      <td>9/2023</td>\n",
       "    </tr>\n",
       "  </tbody>\n",
       "</table>\n",
       "</div>"
      ],
      "text/plain": [
       "   NROEMPRESA  COD_CLIENTE TIPO_PESSOA DATA_ULTIMA_COMPRA  NUMERO_VISITAS  \\\n",
       "0           1            1           J         27/07/2024               3   \n",
       "1           2            1           J         27/07/2024               2   \n",
       "2           5            1           J         27/07/2024              10   \n",
       "3           1            1           J         27/07/2024               1   \n",
       "4           5            1           J         27/07/2024               7   \n",
       "\n",
       "   VALOR_TOTAL     DIA_SEMANA  QUANTIDADE_PRODUTOS  SEGMENTO  CGO MES_ANO  \n",
       "0          365  Domingo                         37         1  800  9/2023  \n",
       "1          122  Domingo                          6         1  800  9/2023  \n",
       "2         1607  Domingo                        154         1  800  9/2023  \n",
       "3          120        Quarta                     2         1  800  9/2023  \n",
       "4          500        Quarta                    43         1  800  9/2023  "
      ]
     },
     "execution_count": 6,
     "metadata": {},
     "output_type": "execute_result"
    }
   ],
   "source": [
    "df0.head()"
   ]
  },
  {
   "cell_type": "markdown",
   "id": "c56ae257",
   "metadata": {},
   "source": [
    "### 0.3 Selecting the CGO"
   ]
  },
  {
   "cell_type": "code",
   "execution_count": 7,
   "id": "91f40191",
   "metadata": {},
   "outputs": [],
   "source": [
    "#Filtro de linhas a serem removidas\n",
    "rows_to_remove = df0.query('CGO not in (800, 810, 835, 843, 844)').index"
   ]
  },
  {
   "cell_type": "code",
   "execution_count": 8,
   "id": "8a8cb492",
   "metadata": {},
   "outputs": [
    {
     "data": {
      "text/plain": [
       "6892"
      ]
     },
     "execution_count": 8,
     "metadata": {},
     "output_type": "execute_result"
    }
   ],
   "source": [
    "#Quantidade de linhas que serão removidas\n",
    "len(rows_to_remove)"
   ]
  },
  {
   "cell_type": "code",
   "execution_count": 9,
   "id": "4070950a",
   "metadata": {},
   "outputs": [],
   "source": [
    "#Remoção das linhas\n",
    "df0.drop(rows_to_remove, axis=0, inplace=True)"
   ]
  },
  {
   "cell_type": "code",
   "execution_count": 10,
   "id": "6261a8ba",
   "metadata": {},
   "outputs": [
    {
     "data": {
      "text/html": [
       "<div>\n",
       "<style scoped>\n",
       "    .dataframe tbody tr th:only-of-type {\n",
       "        vertical-align: middle;\n",
       "    }\n",
       "\n",
       "    .dataframe tbody tr th {\n",
       "        vertical-align: top;\n",
       "    }\n",
       "\n",
       "    .dataframe thead th {\n",
       "        text-align: right;\n",
       "    }\n",
       "</style>\n",
       "<table border=\"1\" class=\"dataframe\">\n",
       "  <thead>\n",
       "    <tr style=\"text-align: right;\">\n",
       "      <th></th>\n",
       "      <th>NROEMPRESA</th>\n",
       "      <th>COD_CLIENTE</th>\n",
       "      <th>TIPO_PESSOA</th>\n",
       "      <th>DATA_ULTIMA_COMPRA</th>\n",
       "      <th>NUMERO_VISITAS</th>\n",
       "      <th>VALOR_TOTAL</th>\n",
       "      <th>DIA_SEMANA</th>\n",
       "      <th>QUANTIDADE_PRODUTOS</th>\n",
       "      <th>SEGMENTO</th>\n",
       "      <th>CGO</th>\n",
       "      <th>MES_ANO</th>\n",
       "    </tr>\n",
       "  </thead>\n",
       "  <tbody>\n",
       "    <tr>\n",
       "      <th>0</th>\n",
       "      <td>1</td>\n",
       "      <td>1</td>\n",
       "      <td>J</td>\n",
       "      <td>27/07/2024</td>\n",
       "      <td>3</td>\n",
       "      <td>365</td>\n",
       "      <td>Domingo</td>\n",
       "      <td>37</td>\n",
       "      <td>1</td>\n",
       "      <td>800</td>\n",
       "      <td>9/2023</td>\n",
       "    </tr>\n",
       "    <tr>\n",
       "      <th>1</th>\n",
       "      <td>2</td>\n",
       "      <td>1</td>\n",
       "      <td>J</td>\n",
       "      <td>27/07/2024</td>\n",
       "      <td>2</td>\n",
       "      <td>122</td>\n",
       "      <td>Domingo</td>\n",
       "      <td>6</td>\n",
       "      <td>1</td>\n",
       "      <td>800</td>\n",
       "      <td>9/2023</td>\n",
       "    </tr>\n",
       "    <tr>\n",
       "      <th>2</th>\n",
       "      <td>5</td>\n",
       "      <td>1</td>\n",
       "      <td>J</td>\n",
       "      <td>27/07/2024</td>\n",
       "      <td>10</td>\n",
       "      <td>1607</td>\n",
       "      <td>Domingo</td>\n",
       "      <td>154</td>\n",
       "      <td>1</td>\n",
       "      <td>800</td>\n",
       "      <td>9/2023</td>\n",
       "    </tr>\n",
       "    <tr>\n",
       "      <th>3</th>\n",
       "      <td>1</td>\n",
       "      <td>1</td>\n",
       "      <td>J</td>\n",
       "      <td>27/07/2024</td>\n",
       "      <td>1</td>\n",
       "      <td>120</td>\n",
       "      <td>Quarta</td>\n",
       "      <td>2</td>\n",
       "      <td>1</td>\n",
       "      <td>800</td>\n",
       "      <td>9/2023</td>\n",
       "    </tr>\n",
       "    <tr>\n",
       "      <th>4</th>\n",
       "      <td>5</td>\n",
       "      <td>1</td>\n",
       "      <td>J</td>\n",
       "      <td>27/07/2024</td>\n",
       "      <td>7</td>\n",
       "      <td>500</td>\n",
       "      <td>Quarta</td>\n",
       "      <td>43</td>\n",
       "      <td>1</td>\n",
       "      <td>800</td>\n",
       "      <td>9/2023</td>\n",
       "    </tr>\n",
       "  </tbody>\n",
       "</table>\n",
       "</div>"
      ],
      "text/plain": [
       "   NROEMPRESA  COD_CLIENTE TIPO_PESSOA DATA_ULTIMA_COMPRA  NUMERO_VISITAS  \\\n",
       "0           1            1           J         27/07/2024               3   \n",
       "1           2            1           J         27/07/2024               2   \n",
       "2           5            1           J         27/07/2024              10   \n",
       "3           1            1           J         27/07/2024               1   \n",
       "4           5            1           J         27/07/2024               7   \n",
       "\n",
       "   VALOR_TOTAL     DIA_SEMANA  QUANTIDADE_PRODUTOS  SEGMENTO  CGO MES_ANO  \n",
       "0          365  Domingo                         37         1  800  9/2023  \n",
       "1          122  Domingo                          6         1  800  9/2023  \n",
       "2         1607  Domingo                        154         1  800  9/2023  \n",
       "3          120        Quarta                     2         1  800  9/2023  \n",
       "4          500        Quarta                    43         1  800  9/2023  "
      ]
     },
     "execution_count": 10,
     "metadata": {},
     "output_type": "execute_result"
    }
   ],
   "source": [
    "#Verificando o DataFrame\n",
    "df0.head()"
   ]
  },
  {
   "cell_type": "markdown",
   "id": "379c553d",
   "metadata": {},
   "source": [
    "### 0.4 Rename Columns"
   ]
  },
  {
   "cell_type": "code",
   "execution_count": 11,
   "id": "e0cd5fd5",
   "metadata": {},
   "outputs": [],
   "source": [
    "old_columns = ['NROEMPRESA','COD_CLIENTE','TIPO_PESSOA','DATA_ULTIMA_COMPRA','NUMERO_VISITAS','VALOR_TOTAL','DIA_SEMANA','QUANTIDADE_PRODUTOS','SEGMENTO','CGO','MES_ANO']\n",
    "\n",
    "lower_case = lambda x: x.lower()\n",
    "new_columns = list(map(lower_case, old_columns))\n",
    "\n",
    "df0.columns = new_columns"
   ]
  },
  {
   "cell_type": "code",
   "execution_count": 12,
   "id": "fafb24a3",
   "metadata": {},
   "outputs": [
    {
     "data": {
      "text/plain": [
       "Index(['nroempresa', 'cod_cliente', 'tipo_pessoa', 'data_ultima_compra',\n",
       "       'numero_visitas', 'valor_total', 'dia_semana', 'quantidade_produtos',\n",
       "       'segmento', 'cgo', 'mes_ano'],\n",
       "      dtype='object')"
      ]
     },
     "execution_count": 12,
     "metadata": {},
     "output_type": "execute_result"
    }
   ],
   "source": [
    "df0.columns"
   ]
  },
  {
   "cell_type": "markdown",
   "id": "0e4e15af",
   "metadata": {},
   "source": [
    "### 1.0 Descrição dos Dados"
   ]
  },
  {
   "cell_type": "code",
   "execution_count": 13,
   "id": "571491eb",
   "metadata": {},
   "outputs": [],
   "source": [
    "df1 = df0.copy()"
   ]
  },
  {
   "cell_type": "markdown",
   "id": "17fee0ee",
   "metadata": {},
   "source": [
    "### 1.1 Dimensões dos Dados"
   ]
  },
  {
   "cell_type": "code",
   "execution_count": 14,
   "id": "006e89b4",
   "metadata": {},
   "outputs": [
    {
     "name": "stdout",
     "output_type": "stream",
     "text": [
      "Número de exemplos: 1041683\n",
      "Número de caraterísticas: 11\n"
     ]
    }
   ],
   "source": [
    "print('Número de exemplos: {}'.format(df1.shape[0]))\n",
    "print('Número de caraterísticas: {}'.format(df1.shape[1]))"
   ]
  },
  {
   "cell_type": "markdown",
   "id": "47fdc561",
   "metadata": {},
   "source": [
    "### 1.2 Tipos dos Dados"
   ]
  },
  {
   "cell_type": "code",
   "execution_count": 15,
   "id": "dfbf66b6",
   "metadata": {},
   "outputs": [
    {
     "data": {
      "text/plain": [
       "nroempresa              int64\n",
       "cod_cliente             int64\n",
       "tipo_pessoa            object\n",
       "data_ultima_compra     object\n",
       "numero_visitas          int64\n",
       "valor_total             int64\n",
       "dia_semana             object\n",
       "quantidade_produtos     int64\n",
       "segmento                int64\n",
       "cgo                     int64\n",
       "mes_ano                object\n",
       "dtype: object"
      ]
     },
     "execution_count": 15,
     "metadata": {},
     "output_type": "execute_result"
    }
   ],
   "source": [
    "df1.dtypes"
   ]
  },
  {
   "cell_type": "code",
   "execution_count": 16,
   "id": "82030b68",
   "metadata": {},
   "outputs": [],
   "source": [
    "#Convertendo Colunas para formato de data\n",
    "df1['data_ultima_compra'] = pd.to_datetime(df1['data_ultima_compra'], format='%d/%m/%Y')\n",
    "df1['mes_ano'] = pd.to_datetime(df1['mes_ano'], format='%m/%Y')\n",
    "\n",
    "#Convertendo Colunas para String\n",
    "df1['nroempresa'] = df1['nroempresa'].astype('string')\n",
    "df1['cod_cliente'] = df1['cod_cliente'].astype('string')\n",
    "df1['tipo_pessoa'] = df1['tipo_pessoa'].astype('string')\n",
    "df1['dia_semana'] = df1['dia_semana'].astype('string')\n",
    "df1['segmento'] = df1['segmento'].astype('string')\n",
    "df1['cgo'] = df1['cgo'].astype('string')"
   ]
  },
  {
   "cell_type": "code",
   "execution_count": 17,
   "id": "51f86116",
   "metadata": {},
   "outputs": [
    {
     "data": {
      "text/plain": [
       "nroempresa                     string\n",
       "cod_cliente                    string\n",
       "tipo_pessoa                    string\n",
       "data_ultima_compra     datetime64[ns]\n",
       "numero_visitas                  int64\n",
       "valor_total                     int64\n",
       "dia_semana                     string\n",
       "quantidade_produtos             int64\n",
       "segmento                       string\n",
       "cgo                            string\n",
       "mes_ano                datetime64[ns]\n",
       "dtype: object"
      ]
     },
     "execution_count": 17,
     "metadata": {},
     "output_type": "execute_result"
    }
   ],
   "source": [
    "df1.dtypes"
   ]
  },
  {
   "cell_type": "markdown",
   "id": "e02e9a57",
   "metadata": {},
   "source": [
    "### 1.3 Valores Faltantes (%)"
   ]
  },
  {
   "cell_type": "code",
   "execution_count": 18,
   "id": "dbf69834",
   "metadata": {},
   "outputs": [
    {
     "data": {
      "text/plain": [
       "nroempresa             0.000000\n",
       "cod_cliente            0.000000\n",
       "tipo_pessoa            0.002304\n",
       "data_ultima_compra     0.000000\n",
       "numero_visitas         0.000000\n",
       "valor_total            0.000000\n",
       "dia_semana             0.000000\n",
       "quantidade_produtos    0.000000\n",
       "segmento               0.000000\n",
       "cgo                    0.000000\n",
       "mes_ano                0.000000\n",
       "dtype: float64"
      ]
     },
     "execution_count": 18,
     "metadata": {},
     "output_type": "execute_result"
    }
   ],
   "source": [
    "#Percent\n",
    "(df1.isna().sum() / len(df1))*100"
   ]
  },
  {
   "cell_type": "code",
   "execution_count": 19,
   "id": "0cd76874",
   "metadata": {},
   "outputs": [
    {
     "data": {
      "text/plain": [
       "24"
      ]
     },
     "execution_count": 19,
     "metadata": {},
     "output_type": "execute_result"
    }
   ],
   "source": [
    "#Fitlro para selecionar os valores inválidos\n",
    "tipo_pessoa_nan = df1.query('tipo_pessoa != \"F\" & tipo_pessoa != \"J\"').index\n",
    "len(tipo_pessoa_nan)"
   ]
  },
  {
   "cell_type": "code",
   "execution_count": 20,
   "id": "0d4d86ce",
   "metadata": {},
   "outputs": [],
   "source": [
    "#Removendo as linhas com os valores inválidos\n",
    "df1.drop(tipo_pessoa_nan, axis=0, inplace=True)"
   ]
  },
  {
   "cell_type": "code",
   "execution_count": 21,
   "id": "48edb607",
   "metadata": {},
   "outputs": [
    {
     "data": {
      "text/plain": [
       "nroempresa             0.0\n",
       "cod_cliente            0.0\n",
       "tipo_pessoa            0.0\n",
       "data_ultima_compra     0.0\n",
       "numero_visitas         0.0\n",
       "valor_total            0.0\n",
       "dia_semana             0.0\n",
       "quantidade_produtos    0.0\n",
       "segmento               0.0\n",
       "cgo                    0.0\n",
       "mes_ano                0.0\n",
       "dtype: float64"
      ]
     },
     "execution_count": 21,
     "metadata": {},
     "output_type": "execute_result"
    }
   ],
   "source": [
    "#Checando novamente os valores inválidos\n",
    "(df1.isna().sum() / len(df1))*100"
   ]
  },
  {
   "cell_type": "markdown",
   "id": "26795225",
   "metadata": {},
   "source": [
    "### 1.4 Balnço das Visitas"
   ]
  },
  {
   "cell_type": "code",
   "execution_count": 22,
   "id": "dd4b1417",
   "metadata": {},
   "outputs": [
    {
     "data": {
      "text/plain": [
       "722"
      ]
     },
     "execution_count": 22,
     "metadata": {},
     "output_type": "execute_result"
    }
   ],
   "source": [
    "len(df1['numero_visitas'].unique())"
   ]
  },
  {
   "cell_type": "code",
   "execution_count": 23,
   "id": "ce768950",
   "metadata": {},
   "outputs": [
    {
     "data": {
      "text/plain": [
       "1       66.019590\n",
       "2       20.157748\n",
       "3        7.848346\n",
       "4        3.419449\n",
       "5        1.398538\n",
       "          ...    \n",
       "1903     0.000096\n",
       "107      0.000096\n",
       "1544     0.000096\n",
       "363      0.000096\n",
       "4326     0.000096\n",
       "Name: numero_visitas, Length: 722, dtype: float64"
      ]
     },
     "execution_count": 23,
     "metadata": {},
     "output_type": "execute_result"
    }
   ],
   "source": [
    "df1['numero_visitas'].value_counts(normalize=True)*100"
   ]
  },
  {
   "cell_type": "markdown",
   "id": "8fa0dcf7",
   "metadata": {},
   "source": [
    "#### Resumo dos dados de visitas normalizados"
   ]
  },
  {
   "cell_type": "markdown",
   "id": "3e3ecba4",
   "metadata": {},
   "source": [
    "   Os valores à esquerda (1,2,3..398), são os **valores únicos encontrados na coluna**, representando a **quantidade de visitas**.\n",
    "    \n",
    "   Os valores à direita (31.08, 14.26, 8.80..), é a **porcentagem de ocorrência de cada valor**.\n",
    "\n",
    "    Assim:\n",
    "        66% da base de dados, realizou somente 1 visita.\n",
    "        20% da base de dados, realizou somente 2 visitas e assim sucessivamente."
   ]
  },
  {
   "cell_type": "markdown",
   "id": "e29c4153",
   "metadata": {},
   "source": [
    "### 1.5 Estatísticas Descritivas"
   ]
  },
  {
   "cell_type": "code",
   "execution_count": 24,
   "id": "8a73ee0e",
   "metadata": {},
   "outputs": [],
   "source": [
    "num_vars = df1.select_dtypes(include=['int64', 'float64'])\n",
    "cat_vars = df1.select_dtypes(exclude=['int64', 'float64', 'datetime64[ns]'])"
   ]
  },
  {
   "cell_type": "markdown",
   "id": "2decd59f",
   "metadata": {},
   "source": [
    "### 1.5.1 Atributos Numéricos"
   ]
  },
  {
   "cell_type": "code",
   "execution_count": 25,
   "id": "b8342ec9",
   "metadata": {},
   "outputs": [
    {
     "data": {
      "text/html": [
       "<div>\n",
       "<style scoped>\n",
       "    .dataframe tbody tr th:only-of-type {\n",
       "        vertical-align: middle;\n",
       "    }\n",
       "\n",
       "    .dataframe tbody tr th {\n",
       "        vertical-align: top;\n",
       "    }\n",
       "\n",
       "    .dataframe thead th {\n",
       "        text-align: right;\n",
       "    }\n",
       "</style>\n",
       "<table border=\"1\" class=\"dataframe\">\n",
       "  <thead>\n",
       "    <tr style=\"text-align: right;\">\n",
       "      <th></th>\n",
       "      <th>Atributos</th>\n",
       "      <th>Média</th>\n",
       "      <th>Mediana</th>\n",
       "      <th>DP</th>\n",
       "      <th>Min</th>\n",
       "      <th>Max</th>\n",
       "      <th>Intervalo</th>\n",
       "      <th>Inclinação</th>\n",
       "      <th>Curtose</th>\n",
       "    </tr>\n",
       "  </thead>\n",
       "  <tbody>\n",
       "    <tr>\n",
       "      <th>0</th>\n",
       "      <td>numero_visitas</td>\n",
       "      <td>3.081187</td>\n",
       "      <td>1.0</td>\n",
       "      <td>69.250063</td>\n",
       "      <td>1.0</td>\n",
       "      <td>7580.0</td>\n",
       "      <td>7579.0</td>\n",
       "      <td>55.485219</td>\n",
       "      <td>3491.090130</td>\n",
       "    </tr>\n",
       "    <tr>\n",
       "      <th>1</th>\n",
       "      <td>valor_total</td>\n",
       "      <td>175.521071</td>\n",
       "      <td>68.0</td>\n",
       "      <td>3107.909824</td>\n",
       "      <td>0.0</td>\n",
       "      <td>503582.0</td>\n",
       "      <td>503582.0</td>\n",
       "      <td>69.675258</td>\n",
       "      <td>6004.045298</td>\n",
       "    </tr>\n",
       "    <tr>\n",
       "      <th>2</th>\n",
       "      <td>quantidade_produtos</td>\n",
       "      <td>21.590539</td>\n",
       "      <td>8.0</td>\n",
       "      <td>425.061868</td>\n",
       "      <td>1.0</td>\n",
       "      <td>58312.0</td>\n",
       "      <td>58311.0</td>\n",
       "      <td>67.328347</td>\n",
       "      <td>5220.056526</td>\n",
       "    </tr>\n",
       "  </tbody>\n",
       "</table>\n",
       "</div>"
      ],
      "text/plain": [
       "             Atributos       Média  Mediana           DP  Min       Max  \\\n",
       "0       numero_visitas    3.081187      1.0    69.250063  1.0    7580.0   \n",
       "1          valor_total  175.521071     68.0  3107.909824  0.0  503582.0   \n",
       "2  quantidade_produtos   21.590539      8.0   425.061868  1.0   58312.0   \n",
       "\n",
       "   Intervalo  Inclinação      Curtose  \n",
       "0     7579.0   55.485219  3491.090130  \n",
       "1   503582.0   69.675258  6004.045298  \n",
       "2    58311.0   67.328347  5220.056526  "
      ]
     },
     "execution_count": 25,
     "metadata": {},
     "output_type": "execute_result"
    }
   ],
   "source": [
    "stat = descriptive_analysis(num_vars)\n",
    "stat"
   ]
  },
  {
   "cell_type": "markdown",
   "id": "da1e62df",
   "metadata": {},
   "source": [
    "### 1.5.2 Atributos Categóricos"
   ]
  },
  {
   "cell_type": "code",
   "execution_count": 26,
   "id": "a9486cf6",
   "metadata": {},
   "outputs": [
    {
     "data": {
      "text/plain": [
       "<StringArray>\n",
       "['1', '2', '5', '4', '3']\n",
       "Length: 5, dtype: string"
      ]
     },
     "execution_count": 26,
     "metadata": {},
     "output_type": "execute_result"
    }
   ],
   "source": [
    "#Valores unicos para 'nroempresa'\n",
    "cat_vars['nroempresa'].unique()"
   ]
  },
  {
   "cell_type": "code",
   "execution_count": 27,
   "id": "b1e7e556",
   "metadata": {},
   "outputs": [
    {
     "data": {
      "text/plain": [
       "1    26.484195\n",
       "2     20.35263\n",
       "4    19.379951\n",
       "3    19.241422\n",
       "5    14.541803\n",
       "Name: nroempresa, dtype: Float64"
      ]
     },
     "execution_count": 27,
     "metadata": {},
     "output_type": "execute_result"
    }
   ],
   "source": [
    "cat_vars['nroempresa'].value_counts(normalize=True)*100"
   ]
  },
  {
   "cell_type": "markdown",
   "id": "50a28d8c",
   "metadata": {},
   "source": [
    "#### Resume\n",
    "    26% equivalem a empresa 1\n",
    "    20% equivalem a empresa 2\n",
    "    19% equivalem a empresa 3\n",
    "    19% equivalem a empresa 4\n",
    "    14% equivalem a empresa 5"
   ]
  },
  {
   "cell_type": "code",
   "execution_count": 28,
   "id": "a544207b",
   "metadata": {},
   "outputs": [
    {
     "data": {
      "text/plain": [
       "<StringArray>\n",
       "[   '1',    '5', '1005', '1015', '1017', '1018', '1019', '1029', '1047',\n",
       " '1120',\n",
       " ...\n",
       " '6420', '7033', '7085', '7114', '7444', '7546', '7608', '7775', '7990',\n",
       " '8343']\n",
       "Length: 53180, dtype: string"
      ]
     },
     "execution_count": 28,
     "metadata": {},
     "output_type": "execute_result"
    }
   ],
   "source": [
    "#Valores unicos para 'codcliente'\n",
    "cat_vars['cod_cliente'].unique()"
   ]
  },
  {
   "cell_type": "code",
   "execution_count": 29,
   "id": "0eab4486",
   "metadata": {},
   "outputs": [
    {
     "data": {
      "text/plain": [
       "2033     0.027648\n",
       "10743     0.02448\n",
       "8022     0.024288\n",
       "2221        0.024\n",
       "20126    0.023904\n",
       "           ...   \n",
       "78035    0.000096\n",
       "77823    0.000096\n",
       "78046    0.000096\n",
       "77423    0.000096\n",
       "8343     0.000096\n",
       "Name: cod_cliente, Length: 53180, dtype: Float64"
      ]
     },
     "execution_count": 29,
     "metadata": {},
     "output_type": "execute_result"
    }
   ],
   "source": [
    "cat_vars['cod_cliente'].value_counts(normalize=True)*100"
   ]
  },
  {
   "cell_type": "code",
   "execution_count": 30,
   "id": "1a8ecf9c",
   "metadata": {},
   "outputs": [
    {
     "data": {
      "text/plain": [
       "<StringArray>\n",
       "['J', 'F']\n",
       "Length: 2, dtype: string"
      ]
     },
     "execution_count": 30,
     "metadata": {},
     "output_type": "execute_result"
    }
   ],
   "source": [
    "#Valores unicos para 'tipo_pessoa'\n",
    "cat_vars['tipo_pessoa'].unique()"
   ]
  },
  {
   "cell_type": "code",
   "execution_count": 31,
   "id": "8b5e4b75",
   "metadata": {},
   "outputs": [
    {
     "data": {
      "text/plain": [
       "F    99.68963\n",
       "J     0.31037\n",
       "Name: tipo_pessoa, dtype: Float64"
      ]
     },
     "execution_count": 31,
     "metadata": {},
     "output_type": "execute_result"
    }
   ],
   "source": [
    "cat_vars['tipo_pessoa'].value_counts(normalize=True)*100"
   ]
  },
  {
   "cell_type": "code",
   "execution_count": 32,
   "id": "e4f8cee7",
   "metadata": {},
   "outputs": [
    {
     "data": {
      "text/plain": [
       "<StringArray>\n",
       "['1', '2', '4', '3']\n",
       "Length: 4, dtype: string"
      ]
     },
     "execution_count": 32,
     "metadata": {},
     "output_type": "execute_result"
    }
   ],
   "source": [
    "#Valores unicos para 'segmento'\n",
    "cat_vars['segmento'].unique()"
   ]
  },
  {
   "cell_type": "code",
   "execution_count": 33,
   "id": "cee0f7b1",
   "metadata": {},
   "outputs": [
    {
     "data": {
      "text/plain": [
       "1    97.688879\n",
       "2     1.909454\n",
       "4     0.378531\n",
       "3     0.023136\n",
       "Name: segmento, dtype: Float64"
      ]
     },
     "execution_count": 33,
     "metadata": {},
     "output_type": "execute_result"
    }
   ],
   "source": [
    "cat_vars['segmento'].value_counts(normalize=True)*100"
   ]
  },
  {
   "cell_type": "code",
   "execution_count": 34,
   "id": "d29db7b5",
   "metadata": {},
   "outputs": [
    {
     "data": {
      "text/plain": [
       "<StringArray>\n",
       "['Domingo      ',       'Quarta ',       'Quinta ',       'Segunda',\n",
       "       'Sexta  ', 'Sabado       ',       'Terca  ']\n",
       "Length: 7, dtype: string"
      ]
     },
     "execution_count": 34,
     "metadata": {},
     "output_type": "execute_result"
    }
   ],
   "source": [
    "#Valores unicos para 'dia_semana'\n",
    "cat_vars['dia_semana'].unique()"
   ]
  },
  {
   "cell_type": "code",
   "execution_count": 35,
   "id": "2a6e3b96",
   "metadata": {},
   "outputs": [
    {
     "data": {
      "text/plain": [
       "Sabado           17.165214\n",
       "Sexta            15.408785\n",
       "Quinta           15.132399\n",
       "Terca             14.11268\n",
       "Segunda          13.759109\n",
       "Quarta           13.538116\n",
       "Domingo          10.883696\n",
       "Name: dia_semana, dtype: Float64"
      ]
     },
     "execution_count": 35,
     "metadata": {},
     "output_type": "execute_result"
    }
   ],
   "source": [
    "cat_vars['dia_semana'].value_counts(normalize=True)*100"
   ]
  },
  {
   "cell_type": "markdown",
   "id": "21157bb4",
   "metadata": {},
   "source": [
    "### Resume\n",
    "    17% equivalem a Sábado\n",
    "    15% equivalem a Sexta\n",
    "    15% equivalem a Quinta\n",
    "    14% equivalem a Terça\n",
    "    13% equivalem a Segunda\n",
    "    13% equivalem a Quarta\n",
    "    10% equivalem a Domingo"
   ]
  },
  {
   "cell_type": "code",
   "execution_count": 36,
   "id": "6aba8b1c",
   "metadata": {},
   "outputs": [
    {
     "data": {
      "text/plain": [
       "<StringArray>\n",
       "['800', '843', '835', '844', '810']\n",
       "Length: 5, dtype: string"
      ]
     },
     "execution_count": 36,
     "metadata": {},
     "output_type": "execute_result"
    }
   ],
   "source": [
    "#Valores unicos para 'cgo'\n",
    "cat_vars['cgo'].unique()"
   ]
  },
  {
   "cell_type": "code",
   "execution_count": 37,
   "id": "dd2e550c",
   "metadata": {},
   "outputs": [
    {
     "data": {
      "text/plain": [
       "800    0.997477\n",
       "835    0.002248\n",
       "844    0.000195\n",
       "843    0.000056\n",
       "810    0.000024\n",
       "Name: cgo, dtype: Float64"
      ]
     },
     "execution_count": 37,
     "metadata": {},
     "output_type": "execute_result"
    }
   ],
   "source": [
    "cat_vars['cgo'].value_counts(normalize=True)"
   ]
  },
  {
   "cell_type": "markdown",
   "id": "d5df09c7",
   "metadata": {},
   "source": [
    "### 2.0 Hypothesis\n",
    "\n",
    "   ##### Distribuição de Novos Usuários ao Longo do Ano:\n",
    "        Hipótese: A distribuição de novos usuários (clientes) é uniforme ao longo do ano, ou há variações sazonais? Por exemplo, os meses de férias podem atrair mais novos clientes.\n",
    "        \n",
    "   ##### Variação do Valor Total ao Longo do Ano:\n",
    "        Hipótese: O valor total de compra varia sazonalmente? Por exemplo, há picos de gastos em determinadas épocas do ano (como Natal ou Black Friday)?\n",
    "        \n",
    "   ##### Variação entre Melhor e Pior Dia da Semana para Compras:\n",
    "        Hipótese: Existe uma diferença estatisticamente significativa entre os dias da semana em termos de quantidade de compras realizadas? Por exemplo, segundas-feiras podem ter menos compras do que sextas-feiras.\n",
    "        \n",
    "   ##### Relação entre Número de Visitas e Quantidade de Produtos Comprados:\n",
    "        Hipótese: Os clientes que fazem mais visitas também compram mais produtos? Por exemplo, clientes que visitam a loja com frequência tendem a comprar mais itens.\n",
    "        \n",
    "   ##### Segmentação com Base no Tipo de Pessoa (Física ou Jurídica):\n",
    "        Hipótese: Existem diferenças significativas no comportamento de compra entre pessoas físicas e jurídicas? Por exemplo, empresas podem comprar em maior quantidade do que indivíduos. \n",
    "        \n",
    "   ##### Impacto do Valor Total na Frequência de Compra:\n",
    "        Hipótese: Clientes que realizam compras de maior valor total tendem a fazer compras com menor frequência? Por exemplo, clientes que gastam mais em uma única compra podem retornar menos vezes."
   ]
  },
  {
   "cell_type": "code",
   "execution_count": 38,
   "id": "118d7265",
   "metadata": {},
   "outputs": [],
   "source": [
    "df2 = df1.copy()"
   ]
  },
  {
   "cell_type": "code",
   "execution_count": 39,
   "id": "235e5a92",
   "metadata": {},
   "outputs": [
    {
     "name": "stdout",
     "output_type": "stream",
     "text": [
      "<class 'pandas.core.frame.DataFrame'>\n",
      "Int64Index: 1041659 entries, 0 to 1048574\n",
      "Data columns (total 11 columns):\n",
      " #   Column               Non-Null Count    Dtype         \n",
      "---  ------               --------------    -----         \n",
      " 0   nroempresa           1041659 non-null  string        \n",
      " 1   cod_cliente          1041659 non-null  string        \n",
      " 2   tipo_pessoa          1041659 non-null  string        \n",
      " 3   data_ultima_compra   1041659 non-null  datetime64[ns]\n",
      " 4   numero_visitas       1041659 non-null  int64         \n",
      " 5   valor_total          1041659 non-null  int64         \n",
      " 6   dia_semana           1041659 non-null  string        \n",
      " 7   quantidade_produtos  1041659 non-null  int64         \n",
      " 8   segmento             1041659 non-null  string        \n",
      " 9   cgo                  1041659 non-null  string        \n",
      " 10  mes_ano              1041659 non-null  datetime64[ns]\n",
      "dtypes: datetime64[ns](2), int64(3), string(6)\n",
      "memory usage: 95.4 MB\n"
     ]
    }
   ],
   "source": [
    "df2.info()"
   ]
  },
  {
   "cell_type": "code",
   "execution_count": 40,
   "id": "4019cfde",
   "metadata": {},
   "outputs": [],
   "source": [
    "#Convertendo a coluna 'data_ultima_compra' para realziar a operação\n",
    "df2['data_ultima_compra'] = pd.to_datetime(df2['data_ultima_compra'])\n",
    "\n",
    "#Retorna a data atual, convertidade para aceitar a operação\n",
    "data_atual = pd.to_datetime(date.today())\n",
    "\n",
    "#Operação que verifica a diferença de dias da última compra até o dia atual\n",
    "df2['dias_desde_ultima_compra'] = (data_atual - df2['data_ultima_compra']).dt.days"
   ]
  },
  {
   "cell_type": "code",
   "execution_count": 41,
   "id": "e29b2572",
   "metadata": {
    "scrolled": true
   },
   "outputs": [
    {
     "data": {
      "text/html": [
       "<div>\n",
       "<style scoped>\n",
       "    .dataframe tbody tr th:only-of-type {\n",
       "        vertical-align: middle;\n",
       "    }\n",
       "\n",
       "    .dataframe tbody tr th {\n",
       "        vertical-align: top;\n",
       "    }\n",
       "\n",
       "    .dataframe thead th {\n",
       "        text-align: right;\n",
       "    }\n",
       "</style>\n",
       "<table border=\"1\" class=\"dataframe\">\n",
       "  <thead>\n",
       "    <tr style=\"text-align: right;\">\n",
       "      <th></th>\n",
       "      <th>nroempresa</th>\n",
       "      <th>cod_cliente</th>\n",
       "      <th>tipo_pessoa</th>\n",
       "      <th>data_ultima_compra</th>\n",
       "      <th>numero_visitas</th>\n",
       "      <th>valor_total</th>\n",
       "      <th>dia_semana</th>\n",
       "      <th>quantidade_produtos</th>\n",
       "      <th>segmento</th>\n",
       "      <th>cgo</th>\n",
       "      <th>mes_ano</th>\n",
       "      <th>dias_desde_ultima_compra</th>\n",
       "    </tr>\n",
       "  </thead>\n",
       "  <tbody>\n",
       "    <tr>\n",
       "      <th>0</th>\n",
       "      <td>1</td>\n",
       "      <td>1</td>\n",
       "      <td>J</td>\n",
       "      <td>2024-07-27</td>\n",
       "      <td>3</td>\n",
       "      <td>365</td>\n",
       "      <td>Domingo</td>\n",
       "      <td>37</td>\n",
       "      <td>1</td>\n",
       "      <td>800</td>\n",
       "      <td>2023-09-01</td>\n",
       "      <td>4</td>\n",
       "    </tr>\n",
       "    <tr>\n",
       "      <th>1</th>\n",
       "      <td>2</td>\n",
       "      <td>1</td>\n",
       "      <td>J</td>\n",
       "      <td>2024-07-27</td>\n",
       "      <td>2</td>\n",
       "      <td>122</td>\n",
       "      <td>Domingo</td>\n",
       "      <td>6</td>\n",
       "      <td>1</td>\n",
       "      <td>800</td>\n",
       "      <td>2023-09-01</td>\n",
       "      <td>4</td>\n",
       "    </tr>\n",
       "    <tr>\n",
       "      <th>2</th>\n",
       "      <td>5</td>\n",
       "      <td>1</td>\n",
       "      <td>J</td>\n",
       "      <td>2024-07-27</td>\n",
       "      <td>10</td>\n",
       "      <td>1607</td>\n",
       "      <td>Domingo</td>\n",
       "      <td>154</td>\n",
       "      <td>1</td>\n",
       "      <td>800</td>\n",
       "      <td>2023-09-01</td>\n",
       "      <td>4</td>\n",
       "    </tr>\n",
       "    <tr>\n",
       "      <th>3</th>\n",
       "      <td>1</td>\n",
       "      <td>1</td>\n",
       "      <td>J</td>\n",
       "      <td>2024-07-27</td>\n",
       "      <td>1</td>\n",
       "      <td>120</td>\n",
       "      <td>Quarta</td>\n",
       "      <td>2</td>\n",
       "      <td>1</td>\n",
       "      <td>800</td>\n",
       "      <td>2023-09-01</td>\n",
       "      <td>4</td>\n",
       "    </tr>\n",
       "    <tr>\n",
       "      <th>4</th>\n",
       "      <td>5</td>\n",
       "      <td>1</td>\n",
       "      <td>J</td>\n",
       "      <td>2024-07-27</td>\n",
       "      <td>7</td>\n",
       "      <td>500</td>\n",
       "      <td>Quarta</td>\n",
       "      <td>43</td>\n",
       "      <td>1</td>\n",
       "      <td>800</td>\n",
       "      <td>2023-09-01</td>\n",
       "      <td>4</td>\n",
       "    </tr>\n",
       "    <tr>\n",
       "      <th>...</th>\n",
       "      <td>...</td>\n",
       "      <td>...</td>\n",
       "      <td>...</td>\n",
       "      <td>...</td>\n",
       "      <td>...</td>\n",
       "      <td>...</td>\n",
       "      <td>...</td>\n",
       "      <td>...</td>\n",
       "      <td>...</td>\n",
       "      <td>...</td>\n",
       "      <td>...</td>\n",
       "      <td>...</td>\n",
       "    </tr>\n",
       "    <tr>\n",
       "      <th>1048570</th>\n",
       "      <td>4</td>\n",
       "      <td>8754</td>\n",
       "      <td>F</td>\n",
       "      <td>2024-07-19</td>\n",
       "      <td>1</td>\n",
       "      <td>8</td>\n",
       "      <td>Segunda</td>\n",
       "      <td>2</td>\n",
       "      <td>1</td>\n",
       "      <td>800</td>\n",
       "      <td>2023-05-01</td>\n",
       "      <td>12</td>\n",
       "    </tr>\n",
       "    <tr>\n",
       "      <th>1048571</th>\n",
       "      <td>4</td>\n",
       "      <td>8754</td>\n",
       "      <td>F</td>\n",
       "      <td>2024-07-19</td>\n",
       "      <td>1</td>\n",
       "      <td>31</td>\n",
       "      <td>Segunda</td>\n",
       "      <td>2</td>\n",
       "      <td>2</td>\n",
       "      <td>800</td>\n",
       "      <td>2023-05-01</td>\n",
       "      <td>12</td>\n",
       "    </tr>\n",
       "    <tr>\n",
       "      <th>1048572</th>\n",
       "      <td>2</td>\n",
       "      <td>8754</td>\n",
       "      <td>F</td>\n",
       "      <td>2024-07-19</td>\n",
       "      <td>1</td>\n",
       "      <td>23</td>\n",
       "      <td>Sexta</td>\n",
       "      <td>4</td>\n",
       "      <td>1</td>\n",
       "      <td>800</td>\n",
       "      <td>2023-05-01</td>\n",
       "      <td>12</td>\n",
       "    </tr>\n",
       "    <tr>\n",
       "      <th>1048573</th>\n",
       "      <td>2</td>\n",
       "      <td>8754</td>\n",
       "      <td>F</td>\n",
       "      <td>2024-07-19</td>\n",
       "      <td>1</td>\n",
       "      <td>11</td>\n",
       "      <td>Sabado</td>\n",
       "      <td>3</td>\n",
       "      <td>1</td>\n",
       "      <td>800</td>\n",
       "      <td>2023-05-01</td>\n",
       "      <td>12</td>\n",
       "    </tr>\n",
       "    <tr>\n",
       "      <th>1048574</th>\n",
       "      <td>2</td>\n",
       "      <td>8754</td>\n",
       "      <td>F</td>\n",
       "      <td>2024-07-19</td>\n",
       "      <td>3</td>\n",
       "      <td>20</td>\n",
       "      <td>Terca</td>\n",
       "      <td>5</td>\n",
       "      <td>1</td>\n",
       "      <td>800</td>\n",
       "      <td>2023-05-01</td>\n",
       "      <td>12</td>\n",
       "    </tr>\n",
       "  </tbody>\n",
       "</table>\n",
       "<p>1041659 rows × 12 columns</p>\n",
       "</div>"
      ],
      "text/plain": [
       "        nroempresa cod_cliente tipo_pessoa data_ultima_compra  numero_visitas  \\\n",
       "0                1           1           J         2024-07-27               3   \n",
       "1                2           1           J         2024-07-27               2   \n",
       "2                5           1           J         2024-07-27              10   \n",
       "3                1           1           J         2024-07-27               1   \n",
       "4                5           1           J         2024-07-27               7   \n",
       "...            ...         ...         ...                ...             ...   \n",
       "1048570          4        8754           F         2024-07-19               1   \n",
       "1048571          4        8754           F         2024-07-19               1   \n",
       "1048572          2        8754           F         2024-07-19               1   \n",
       "1048573          2        8754           F         2024-07-19               1   \n",
       "1048574          2        8754           F         2024-07-19               3   \n",
       "\n",
       "         valor_total     dia_semana  quantidade_produtos segmento  cgo  \\\n",
       "0                365  Domingo                         37        1  800   \n",
       "1                122  Domingo                          6        1  800   \n",
       "2               1607  Domingo                        154        1  800   \n",
       "3                120        Quarta                     2        1  800   \n",
       "4                500        Quarta                    43        1  800   \n",
       "...              ...            ...                  ...      ...  ...   \n",
       "1048570            8        Segunda                    2        1  800   \n",
       "1048571           31        Segunda                    2        2  800   \n",
       "1048572           23        Sexta                      4        1  800   \n",
       "1048573           11  Sabado                           3        1  800   \n",
       "1048574           20        Terca                      5        1  800   \n",
       "\n",
       "           mes_ano  dias_desde_ultima_compra  \n",
       "0       2023-09-01                         4  \n",
       "1       2023-09-01                         4  \n",
       "2       2023-09-01                         4  \n",
       "3       2023-09-01                         4  \n",
       "4       2023-09-01                         4  \n",
       "...            ...                       ...  \n",
       "1048570 2023-05-01                        12  \n",
       "1048571 2023-05-01                        12  \n",
       "1048572 2023-05-01                        12  \n",
       "1048573 2023-05-01                        12  \n",
       "1048574 2023-05-01                        12  \n",
       "\n",
       "[1041659 rows x 12 columns]"
      ]
     },
     "execution_count": 41,
     "metadata": {},
     "output_type": "execute_result"
    }
   ],
   "source": [
    "df2"
   ]
  },
  {
   "cell_type": "markdown",
   "id": "dc260c60",
   "metadata": {},
   "source": [
    "### Agrupando os valores para ter uma linha por cliente \n",
    "    - Valor total gasto por cliente\n",
    "    - Quantidade total de visitas\n",
    "    - Quantidade total de produtos"
   ]
  },
  {
   "cell_type": "code",
   "execution_count": 42,
   "id": "fb42267c",
   "metadata": {},
   "outputs": [
    {
     "data": {
      "text/html": [
       "<div>\n",
       "<style scoped>\n",
       "    .dataframe tbody tr th:only-of-type {\n",
       "        vertical-align: middle;\n",
       "    }\n",
       "\n",
       "    .dataframe tbody tr th {\n",
       "        vertical-align: top;\n",
       "    }\n",
       "\n",
       "    .dataframe thead th {\n",
       "        text-align: right;\n",
       "    }\n",
       "</style>\n",
       "<table border=\"1\" class=\"dataframe\">\n",
       "  <thead>\n",
       "    <tr style=\"text-align: right;\">\n",
       "      <th></th>\n",
       "      <th>nroempresa</th>\n",
       "      <th>cod_cliente</th>\n",
       "      <th>tipo_pessoa</th>\n",
       "      <th>data_ultima_compra</th>\n",
       "      <th>numero_visitas</th>\n",
       "      <th>valor_total</th>\n",
       "      <th>dia_semana</th>\n",
       "      <th>quantidade_produtos</th>\n",
       "      <th>segmento</th>\n",
       "      <th>cgo</th>\n",
       "      <th>mes_ano</th>\n",
       "      <th>dias_desde_ultima_compra</th>\n",
       "    </tr>\n",
       "  </thead>\n",
       "  <tbody>\n",
       "    <tr>\n",
       "      <th>0</th>\n",
       "      <td>1</td>\n",
       "      <td>1</td>\n",
       "      <td>J</td>\n",
       "      <td>2024-07-27</td>\n",
       "      <td>3</td>\n",
       "      <td>365</td>\n",
       "      <td>Domingo</td>\n",
       "      <td>37</td>\n",
       "      <td>1</td>\n",
       "      <td>800</td>\n",
       "      <td>2023-09-01</td>\n",
       "      <td>4</td>\n",
       "    </tr>\n",
       "    <tr>\n",
       "      <th>1</th>\n",
       "      <td>2</td>\n",
       "      <td>1</td>\n",
       "      <td>J</td>\n",
       "      <td>2024-07-27</td>\n",
       "      <td>2</td>\n",
       "      <td>122</td>\n",
       "      <td>Domingo</td>\n",
       "      <td>6</td>\n",
       "      <td>1</td>\n",
       "      <td>800</td>\n",
       "      <td>2023-09-01</td>\n",
       "      <td>4</td>\n",
       "    </tr>\n",
       "    <tr>\n",
       "      <th>2</th>\n",
       "      <td>5</td>\n",
       "      <td>1</td>\n",
       "      <td>J</td>\n",
       "      <td>2024-07-27</td>\n",
       "      <td>10</td>\n",
       "      <td>1607</td>\n",
       "      <td>Domingo</td>\n",
       "      <td>154</td>\n",
       "      <td>1</td>\n",
       "      <td>800</td>\n",
       "      <td>2023-09-01</td>\n",
       "      <td>4</td>\n",
       "    </tr>\n",
       "    <tr>\n",
       "      <th>3</th>\n",
       "      <td>1</td>\n",
       "      <td>1</td>\n",
       "      <td>J</td>\n",
       "      <td>2024-07-27</td>\n",
       "      <td>1</td>\n",
       "      <td>120</td>\n",
       "      <td>Quarta</td>\n",
       "      <td>2</td>\n",
       "      <td>1</td>\n",
       "      <td>800</td>\n",
       "      <td>2023-09-01</td>\n",
       "      <td>4</td>\n",
       "    </tr>\n",
       "    <tr>\n",
       "      <th>4</th>\n",
       "      <td>5</td>\n",
       "      <td>1</td>\n",
       "      <td>J</td>\n",
       "      <td>2024-07-27</td>\n",
       "      <td>7</td>\n",
       "      <td>500</td>\n",
       "      <td>Quarta</td>\n",
       "      <td>43</td>\n",
       "      <td>1</td>\n",
       "      <td>800</td>\n",
       "      <td>2023-09-01</td>\n",
       "      <td>4</td>\n",
       "    </tr>\n",
       "  </tbody>\n",
       "</table>\n",
       "</div>"
      ],
      "text/plain": [
       "  nroempresa cod_cliente tipo_pessoa data_ultima_compra  numero_visitas  \\\n",
       "0          1           1           J         2024-07-27               3   \n",
       "1          2           1           J         2024-07-27               2   \n",
       "2          5           1           J         2024-07-27              10   \n",
       "3          1           1           J         2024-07-27               1   \n",
       "4          5           1           J         2024-07-27               7   \n",
       "\n",
       "   valor_total     dia_semana  quantidade_produtos segmento  cgo    mes_ano  \\\n",
       "0          365  Domingo                         37        1  800 2023-09-01   \n",
       "1          122  Domingo                          6        1  800 2023-09-01   \n",
       "2         1607  Domingo                        154        1  800 2023-09-01   \n",
       "3          120        Quarta                     2        1  800 2023-09-01   \n",
       "4          500        Quarta                    43        1  800 2023-09-01   \n",
       "\n",
       "   dias_desde_ultima_compra  \n",
       "0                         4  \n",
       "1                         4  \n",
       "2                         4  \n",
       "3                         4  \n",
       "4                         4  "
      ]
     },
     "execution_count": 42,
     "metadata": {},
     "output_type": "execute_result"
    }
   ],
   "source": [
    "#Verificando o DataFrame\n",
    "df2.head()"
   ]
  },
  {
   "cell_type": "code",
   "execution_count": 43,
   "id": "8b3f2b3b",
   "metadata": {},
   "outputs": [
    {
     "data": {
      "text/plain": [
       "nroempresa                  0\n",
       "cod_cliente                 0\n",
       "tipo_pessoa                 0\n",
       "data_ultima_compra          0\n",
       "numero_visitas              0\n",
       "valor_total                 0\n",
       "dia_semana                  0\n",
       "quantidade_produtos         0\n",
       "segmento                    0\n",
       "cgo                         0\n",
       "mes_ano                     0\n",
       "dias_desde_ultima_compra    0\n",
       "dtype: int64"
      ]
     },
     "execution_count": 43,
     "metadata": {},
     "output_type": "execute_result"
    }
   ],
   "source": [
    "#Verificando valores nulos\n",
    "df2.isna().sum()"
   ]
  },
  {
   "cell_type": "code",
   "execution_count": 44,
   "id": "deec8b79",
   "metadata": {},
   "outputs": [
    {
     "name": "stdout",
     "output_type": "stream",
     "text": [
      "<class 'pandas.core.frame.DataFrame'>\n",
      "Int64Index: 1041659 entries, 0 to 1048574\n",
      "Data columns (total 12 columns):\n",
      " #   Column                    Non-Null Count    Dtype         \n",
      "---  ------                    --------------    -----         \n",
      " 0   nroempresa                1041659 non-null  string        \n",
      " 1   cod_cliente               1041659 non-null  string        \n",
      " 2   tipo_pessoa               1041659 non-null  string        \n",
      " 3   data_ultima_compra        1041659 non-null  datetime64[ns]\n",
      " 4   numero_visitas            1041659 non-null  int64         \n",
      " 5   valor_total               1041659 non-null  int64         \n",
      " 6   dia_semana                1041659 non-null  string        \n",
      " 7   quantidade_produtos       1041659 non-null  int64         \n",
      " 8   segmento                  1041659 non-null  string        \n",
      " 9   cgo                       1041659 non-null  string        \n",
      " 10  mes_ano                   1041659 non-null  datetime64[ns]\n",
      " 11  dias_desde_ultima_compra  1041659 non-null  int64         \n",
      "dtypes: datetime64[ns](2), int64(4), string(6)\n",
      "memory usage: 103.3 MB\n"
     ]
    }
   ],
   "source": [
    "df2.info()"
   ]
  },
  {
   "cell_type": "code",
   "execution_count": 45,
   "id": "1e32e487",
   "metadata": {},
   "outputs": [
    {
     "data": {
      "text/plain": [
       "925"
      ]
     },
     "execution_count": 45,
     "metadata": {},
     "output_type": "execute_result"
    }
   ],
   "source": [
    "#Filtrando somente os clientes diferentes da empresa\n",
    "clientes_a_remover = df2.query('cod_cliente in [\"1\", \"2\", \"3\", \"4\", \"5\", \"13285\", \"13290\", \"48963\", \"13923\", \"13295\", \"13297\"]').index\n",
    "len(clientes_a_remover)"
   ]
  },
  {
   "cell_type": "code",
   "execution_count": 46,
   "id": "2e01de6f",
   "metadata": {},
   "outputs": [],
   "source": [
    "#Removendo os clientes\n",
    "df2.drop(clientes_a_remover, axis=0, inplace=True)"
   ]
  },
  {
   "cell_type": "code",
   "execution_count": 47,
   "id": "14e8b8fb",
   "metadata": {},
   "outputs": [],
   "source": [
    "df_agrupado = df2.groupby('cod_cliente').agg({'valor_total': 'sum', 'numero_visitas' : 'sum', 'quantidade_produtos' : 'sum', 'dias_desde_ultima_compra' : 'last'}).reset_index()"
   ]
  },
  {
   "cell_type": "code",
   "execution_count": 48,
   "id": "777ae21a",
   "metadata": {},
   "outputs": [
    {
     "data": {
      "text/html": [
       "<div>\n",
       "<style scoped>\n",
       "    .dataframe tbody tr th:only-of-type {\n",
       "        vertical-align: middle;\n",
       "    }\n",
       "\n",
       "    .dataframe tbody tr th {\n",
       "        vertical-align: top;\n",
       "    }\n",
       "\n",
       "    .dataframe thead th {\n",
       "        text-align: right;\n",
       "    }\n",
       "</style>\n",
       "<table border=\"1\" class=\"dataframe\">\n",
       "  <thead>\n",
       "    <tr style=\"text-align: right;\">\n",
       "      <th></th>\n",
       "      <th>cod_cliente</th>\n",
       "      <th>valor_total</th>\n",
       "      <th>numero_visitas</th>\n",
       "      <th>quantidade_produtos</th>\n",
       "      <th>dias_desde_ultima_compra</th>\n",
       "    </tr>\n",
       "  </thead>\n",
       "  <tbody>\n",
       "    <tr>\n",
       "      <th>0</th>\n",
       "      <td>10000</td>\n",
       "      <td>2069</td>\n",
       "      <td>46</td>\n",
       "      <td>214</td>\n",
       "      <td>4</td>\n",
       "    </tr>\n",
       "    <tr>\n",
       "      <th>1</th>\n",
       "      <td>10001</td>\n",
       "      <td>9110</td>\n",
       "      <td>200</td>\n",
       "      <td>1111</td>\n",
       "      <td>8</td>\n",
       "    </tr>\n",
       "    <tr>\n",
       "      <th>2</th>\n",
       "      <td>10002</td>\n",
       "      <td>76</td>\n",
       "      <td>2</td>\n",
       "      <td>2</td>\n",
       "      <td>370</td>\n",
       "    </tr>\n",
       "    <tr>\n",
       "      <th>3</th>\n",
       "      <td>10006</td>\n",
       "      <td>8883</td>\n",
       "      <td>153</td>\n",
       "      <td>1087</td>\n",
       "      <td>350</td>\n",
       "    </tr>\n",
       "    <tr>\n",
       "      <th>4</th>\n",
       "      <td>10007</td>\n",
       "      <td>9072</td>\n",
       "      <td>119</td>\n",
       "      <td>1289</td>\n",
       "      <td>2</td>\n",
       "    </tr>\n",
       "    <tr>\n",
       "      <th>...</th>\n",
       "      <td>...</td>\n",
       "      <td>...</td>\n",
       "      <td>...</td>\n",
       "      <td>...</td>\n",
       "      <td>...</td>\n",
       "    </tr>\n",
       "    <tr>\n",
       "      <th>53165</th>\n",
       "      <td>9992</td>\n",
       "      <td>1867</td>\n",
       "      <td>17</td>\n",
       "      <td>145</td>\n",
       "      <td>51</td>\n",
       "    </tr>\n",
       "    <tr>\n",
       "      <th>53166</th>\n",
       "      <td>9995</td>\n",
       "      <td>4154</td>\n",
       "      <td>68</td>\n",
       "      <td>661</td>\n",
       "      <td>12</td>\n",
       "    </tr>\n",
       "    <tr>\n",
       "      <th>53167</th>\n",
       "      <td>9997</td>\n",
       "      <td>5229</td>\n",
       "      <td>74</td>\n",
       "      <td>397</td>\n",
       "      <td>6</td>\n",
       "    </tr>\n",
       "    <tr>\n",
       "      <th>53168</th>\n",
       "      <td>9998</td>\n",
       "      <td>2767</td>\n",
       "      <td>41</td>\n",
       "      <td>403</td>\n",
       "      <td>3</td>\n",
       "    </tr>\n",
       "    <tr>\n",
       "      <th>53169</th>\n",
       "      <td>9999</td>\n",
       "      <td>1114</td>\n",
       "      <td>9</td>\n",
       "      <td>53</td>\n",
       "      <td>174</td>\n",
       "    </tr>\n",
       "  </tbody>\n",
       "</table>\n",
       "<p>53170 rows × 5 columns</p>\n",
       "</div>"
      ],
      "text/plain": [
       "      cod_cliente  valor_total  numero_visitas  quantidade_produtos  \\\n",
       "0           10000         2069              46                  214   \n",
       "1           10001         9110             200                 1111   \n",
       "2           10002           76               2                    2   \n",
       "3           10006         8883             153                 1087   \n",
       "4           10007         9072             119                 1289   \n",
       "...           ...          ...             ...                  ...   \n",
       "53165        9992         1867              17                  145   \n",
       "53166        9995         4154              68                  661   \n",
       "53167        9997         5229              74                  397   \n",
       "53168        9998         2767              41                  403   \n",
       "53169        9999         1114               9                   53   \n",
       "\n",
       "       dias_desde_ultima_compra  \n",
       "0                             4  \n",
       "1                             8  \n",
       "2                           370  \n",
       "3                           350  \n",
       "4                             2  \n",
       "...                         ...  \n",
       "53165                        51  \n",
       "53166                        12  \n",
       "53167                         6  \n",
       "53168                         3  \n",
       "53169                       174  \n",
       "\n",
       "[53170 rows x 5 columns]"
      ]
     },
     "execution_count": 48,
     "metadata": {},
     "output_type": "execute_result"
    }
   ],
   "source": [
    "df_agrupado"
   ]
  },
  {
   "cell_type": "markdown",
   "id": "22322260",
   "metadata": {},
   "source": [
    "#### Alguns códigos não usados\n",
    "    #Calculando o total gasto por cliente\n",
    "    #df2['valor_total_gasto_pelo_cliente'] = df2.groupby(['nroempresa', 'cod_cliente', 'tipo_pessoa','data_ultima_compra','numero_visitas','dia_semana','quantidade_produtos','segmento','cgo','mes_ano','dias_desde_ultima_compra'])['valor_total'].sum().reset_index(drop=True)\n",
    "\n",
    "    #Se necessário\n",
    "    #df2.drop('valor_total_gasto_pelo_cliente', axis=1, inplace=True)\n",
    "    \n",
    "    #Total de visitas realizadas\n",
    "    #df2['total_visitas'] = df2.groupby(['nroempresa', 'cod_cliente', 'tipo_pessoa','data_ultima_compra','numero_visitas','dia_semana','quantidade_produtos','segmento','cgo','mes_ano','dias_desde_ultima_compra'])['numero_visitas'].sum().reset_index(drop=True)\n",
    "    \n",
    "    #df2.drop('total_visitas', axis=1, inplace=True)    \n",
    "    \n",
    "    \n",
    "    VISUALIZAÇÃO DE CLIENTE ESPECIFICO com .loc\n",
    "    cliente_10000 = df2.query('cod_cliente == \"10000\"').index\n",
    "    df2.loc[cliente_10000]"
   ]
  },
  {
   "cell_type": "markdown",
   "id": "85e838eb",
   "metadata": {},
   "source": [
    "# POWER BI\n",
    "\n",
    "As hipóteses serão respondidas pelo Power BI."
   ]
  },
  {
   "cell_type": "markdown",
   "id": "384c88da",
   "metadata": {},
   "source": [
    "### Salvando o arquivo"
   ]
  },
  {
   "cell_type": "code",
   "execution_count": 49,
   "id": "08eca15a",
   "metadata": {},
   "outputs": [],
   "source": [
    "df_agrupado.to_csv('clientes_agrupados.csv', index=False)"
   ]
  }
 ],
 "metadata": {
  "kernelspec": {
   "display_name": "Python 3 (ipykernel)",
   "language": "python",
   "name": "python3"
  },
  "language_info": {
   "codemirror_mode": {
    "name": "ipython",
    "version": 3
   },
   "file_extension": ".py",
   "mimetype": "text/x-python",
   "name": "python",
   "nbconvert_exporter": "python",
   "pygments_lexer": "ipython3",
   "version": "3.9.7"
  }
 },
 "nbformat": 4,
 "nbformat_minor": 5
}
