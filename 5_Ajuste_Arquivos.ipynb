{
 "cells": [
  {
   "cell_type": "code",
   "execution_count": 1,
   "id": "1f54aa21",
   "metadata": {},
   "outputs": [],
   "source": [
    "import pandas as pd\n",
    "import numpy as np\n",
    "import matplotlib.pyplot as plt\n",
    "#import seaborn as sns\n",
    "#from sklearn.preprocessing import MinMaxScaler, StandardScaler\n",
    "#from sklearn.cluster import KMeans\n",
    "#from yellowbrick.cluster import KElbowVisualizer, SilhouetteVisualizer\n",
    "#from sklearn.metrics import silhouette_score\n",
    "#from sklearn.decomposition import PCA\n",
    "#from sklearn.preprocessing import Normalizer\n",
    "#from sklearn.model_selection import train_test_split"
   ]
  },
  {
   "cell_type": "code",
   "execution_count": 2,
   "id": "8847f67c",
   "metadata": {},
   "outputs": [],
   "source": [
    "dados = pd.read_csv('./CSV/clientes_jan2020_dez2023.csv', sep=';')"
   ]
  },
  {
   "cell_type": "code",
   "execution_count": 3,
   "id": "8a946a30",
   "metadata": {},
   "outputs": [
    {
     "data": {
      "text/html": [
       "<div>\n",
       "<style scoped>\n",
       "    .dataframe tbody tr th:only-of-type {\n",
       "        vertical-align: middle;\n",
       "    }\n",
       "\n",
       "    .dataframe tbody tr th {\n",
       "        vertical-align: top;\n",
       "    }\n",
       "\n",
       "    .dataframe thead th {\n",
       "        text-align: right;\n",
       "    }\n",
       "</style>\n",
       "<table border=\"1\" class=\"dataframe\">\n",
       "  <thead>\n",
       "    <tr style=\"text-align: right;\">\n",
       "      <th></th>\n",
       "      <th>NROEMPRESA</th>\n",
       "      <th>COD_CLIENTE</th>\n",
       "      <th>TIPO_PESSOA</th>\n",
       "      <th>DATA_ULTIMA_COMPRA</th>\n",
       "      <th>NUMERO_VISITAS</th>\n",
       "      <th>VALOR_TOTAL</th>\n",
       "      <th>QUANTIDADE_PRODUTOS</th>\n",
       "      <th>SEGMENTO</th>\n",
       "      <th>CGO</th>\n",
       "      <th>MES_ANO</th>\n",
       "    </tr>\n",
       "  </thead>\n",
       "  <tbody>\n",
       "    <tr>\n",
       "      <th>0</th>\n",
       "      <td>3</td>\n",
       "      <td>13434</td>\n",
       "      <td>F</td>\n",
       "      <td>06/08/2024</td>\n",
       "      <td>1</td>\n",
       "      <td>51</td>\n",
       "      <td>5</td>\n",
       "      <td>1</td>\n",
       "      <td>800</td>\n",
       "      <td>1/2020</td>\n",
       "    </tr>\n",
       "    <tr>\n",
       "      <th>1</th>\n",
       "      <td>3</td>\n",
       "      <td>3203</td>\n",
       "      <td>F</td>\n",
       "      <td>30/01/2022</td>\n",
       "      <td>16</td>\n",
       "      <td>870</td>\n",
       "      <td>148</td>\n",
       "      <td>1</td>\n",
       "      <td>800</td>\n",
       "      <td>2/2020</td>\n",
       "    </tr>\n",
       "    <tr>\n",
       "      <th>2</th>\n",
       "      <td>2</td>\n",
       "      <td>2590</td>\n",
       "      <td>F</td>\n",
       "      <td>08/08/2024</td>\n",
       "      <td>2</td>\n",
       "      <td>100</td>\n",
       "      <td>4</td>\n",
       "      <td>1</td>\n",
       "      <td>800</td>\n",
       "      <td>2/2020</td>\n",
       "    </tr>\n",
       "    <tr>\n",
       "      <th>3</th>\n",
       "      <td>3</td>\n",
       "      <td>22203</td>\n",
       "      <td>F</td>\n",
       "      <td>07/08/2024</td>\n",
       "      <td>12</td>\n",
       "      <td>445</td>\n",
       "      <td>80</td>\n",
       "      <td>1</td>\n",
       "      <td>800</td>\n",
       "      <td>3/2020</td>\n",
       "    </tr>\n",
       "    <tr>\n",
       "      <th>4</th>\n",
       "      <td>3</td>\n",
       "      <td>9377</td>\n",
       "      <td>F</td>\n",
       "      <td>07/08/2024</td>\n",
       "      <td>2</td>\n",
       "      <td>110</td>\n",
       "      <td>10</td>\n",
       "      <td>1</td>\n",
       "      <td>800</td>\n",
       "      <td>5/2020</td>\n",
       "    </tr>\n",
       "  </tbody>\n",
       "</table>\n",
       "</div>"
      ],
      "text/plain": [
       "   NROEMPRESA  COD_CLIENTE TIPO_PESSOA DATA_ULTIMA_COMPRA  NUMERO_VISITAS  \\\n",
       "0           3        13434           F         06/08/2024               1   \n",
       "1           3         3203           F         30/01/2022              16   \n",
       "2           2         2590           F         08/08/2024               2   \n",
       "3           3        22203           F         07/08/2024              12   \n",
       "4           3         9377           F         07/08/2024               2   \n",
       "\n",
       "   VALOR_TOTAL  QUANTIDADE_PRODUTOS  SEGMENTO  CGO MES_ANO  \n",
       "0           51                    5         1  800  1/2020  \n",
       "1          870                  148         1  800  2/2020  \n",
       "2          100                    4         1  800  2/2020  \n",
       "3          445                   80         1  800  3/2020  \n",
       "4          110                   10         1  800  5/2020  "
      ]
     },
     "execution_count": 3,
     "metadata": {},
     "output_type": "execute_result"
    }
   ],
   "source": [
    "dados.head()"
   ]
  },
  {
   "cell_type": "code",
   "execution_count": 4,
   "id": "dcef1366-f027-42ca-beaf-7f1b09a166cd",
   "metadata": {},
   "outputs": [],
   "source": [
    "#dados.drop('SEXO', axis=1,inplace=True)\n",
    "#dados.drop('IDADE', axis=1,inplace=True)"
   ]
  },
  {
   "cell_type": "code",
   "execution_count": 5,
   "id": "369ec88b-81a4-40de-8c67-c142afd8376c",
   "metadata": {},
   "outputs": [],
   "source": [
    "#dados.head()"
   ]
  },
  {
   "cell_type": "markdown",
   "id": "28cf702b",
   "metadata": {},
   "source": [
    "## Verificando valores ausentes e inválidos"
   ]
  },
  {
   "cell_type": "code",
   "execution_count": 8,
   "id": "694a8837",
   "metadata": {},
   "outputs": [
    {
     "name": "stdout",
     "output_type": "stream",
     "text": [
      "Tamanho antes da remoção: 0\n",
      "Tamanho CGO antes da remoção: 0\n",
      "Tamanho após a remoção: 0\n",
      "Tamanho CGO após a remoção: 0\n",
      "         NROEMPRESA  COD_CLIENTE TIPO_PESSOA DATA_ULTIMA_COMPRA  \\\n",
      "0                 3        13434           F         06/08/2024   \n",
      "1                 3         3203           F         30/01/2022   \n",
      "2                 2         2590           F         08/08/2024   \n",
      "3                 3        22203           F         07/08/2024   \n",
      "4                 3         9377           F         07/08/2024   \n",
      "...             ...          ...         ...                ...   \n",
      "1383393           1         3441           F         25/05/2024   \n",
      "1383394           1         6579           F         02/08/2024   \n",
      "1383395           1         4179           F         07/08/2024   \n",
      "1383396           3        18299           F         08/08/2024   \n",
      "1383397           1         7551           F         03/04/2021   \n",
      "\n",
      "         NUMERO_VISITAS  VALOR_TOTAL  QUANTIDADE_PRODUTOS  SEGMENTO  CGO  \\\n",
      "0                     1           51                    5         1  800   \n",
      "1                    16          870                  148         1  800   \n",
      "2                     2          100                    4         1  800   \n",
      "3                    12          445                   80         1  800   \n",
      "4                     2          110                   10         1  800   \n",
      "...                 ...          ...                  ...       ...  ...   \n",
      "1383393               1          215                   14         1  800   \n",
      "1383394               1          184                    6         1  800   \n",
      "1383395               1          110                    4         2  800   \n",
      "1383396               1           16                    3         1  800   \n",
      "1383397               1          113                   14         1  800   \n",
      "\n",
      "         MES_ANO  \n",
      "0         1/2020  \n",
      "1         2/2020  \n",
      "2         2/2020  \n",
      "3         3/2020  \n",
      "4         5/2020  \n",
      "...          ...  \n",
      "1383393   3/2023  \n",
      "1383394   2/2023  \n",
      "1383395  12/2023  \n",
      "1383396   6/2023  \n",
      "1383397   9/2020  \n",
      "\n",
      "[1373043 rows x 10 columns]\n"
     ]
    }
   ],
   "source": [
    "# Identificar os índices dos clientes que você deseja remover\n",
    "clientes_remover = dados.query('COD_CLIENTE in (1, 2, 3, 4, 5, 13285, 13290, 48963, 13293, 13295, 13297)').index\n",
    "cgos_a_manter = dados.query('CGO  not in (800, 810, 835, 843, 844)').index\n",
    "\n",
    "# Verificar o tamanho da lista de índices a serem removidos\n",
    "print(\"Tamanho antes da remoção:\", len(clientes_remover))\n",
    "print(\"Tamanho CGO antes da remoção:\", len(cgos_a_manter))\n",
    "\n",
    "# Remover as linhas correspondentes aos clientes especificados\n",
    "dados.drop(clientes_remover, axis=0, inplace=True)\n",
    "dados.drop(cgos_a_manter, axis=0, inplace=True)\n",
    "\n",
    "# Verificar o tamanho da lista de índices após a remoção\n",
    "print(\"Tamanho após a remoção:\", len(clientes_remover))\n",
    "print(\"Tamanho CGO após a remoção:\", len(cgos_a_manter))\n",
    "\n",
    "# Verificar o DataFrame após a remoção\n",
    "print(dados)"
   ]
  },
  {
   "cell_type": "code",
   "execution_count": 9,
   "id": "bbb7b906-d856-466e-8d28-919d5dd69fbf",
   "metadata": {},
   "outputs": [
    {
     "data": {
      "text/html": [
       "<div>\n",
       "<style scoped>\n",
       "    .dataframe tbody tr th:only-of-type {\n",
       "        vertical-align: middle;\n",
       "    }\n",
       "\n",
       "    .dataframe tbody tr th {\n",
       "        vertical-align: top;\n",
       "    }\n",
       "\n",
       "    .dataframe thead th {\n",
       "        text-align: right;\n",
       "    }\n",
       "</style>\n",
       "<table border=\"1\" class=\"dataframe\">\n",
       "  <thead>\n",
       "    <tr style=\"text-align: right;\">\n",
       "      <th></th>\n",
       "      <th>NROEMPRESA</th>\n",
       "      <th>COD_CLIENTE</th>\n",
       "      <th>TIPO_PESSOA</th>\n",
       "      <th>DATA_ULTIMA_COMPRA</th>\n",
       "      <th>NUMERO_VISITAS</th>\n",
       "      <th>VALOR_TOTAL</th>\n",
       "      <th>QUANTIDADE_PRODUTOS</th>\n",
       "      <th>SEGMENTO</th>\n",
       "      <th>CGO</th>\n",
       "      <th>MES_ANO</th>\n",
       "    </tr>\n",
       "  </thead>\n",
       "  <tbody>\n",
       "    <tr>\n",
       "      <th>0</th>\n",
       "      <td>3</td>\n",
       "      <td>13434</td>\n",
       "      <td>F</td>\n",
       "      <td>06/08/2024</td>\n",
       "      <td>1</td>\n",
       "      <td>51</td>\n",
       "      <td>5</td>\n",
       "      <td>1</td>\n",
       "      <td>800</td>\n",
       "      <td>1/2020</td>\n",
       "    </tr>\n",
       "    <tr>\n",
       "      <th>1</th>\n",
       "      <td>3</td>\n",
       "      <td>3203</td>\n",
       "      <td>F</td>\n",
       "      <td>30/01/2022</td>\n",
       "      <td>16</td>\n",
       "      <td>870</td>\n",
       "      <td>148</td>\n",
       "      <td>1</td>\n",
       "      <td>800</td>\n",
       "      <td>2/2020</td>\n",
       "    </tr>\n",
       "    <tr>\n",
       "      <th>2</th>\n",
       "      <td>2</td>\n",
       "      <td>2590</td>\n",
       "      <td>F</td>\n",
       "      <td>08/08/2024</td>\n",
       "      <td>2</td>\n",
       "      <td>100</td>\n",
       "      <td>4</td>\n",
       "      <td>1</td>\n",
       "      <td>800</td>\n",
       "      <td>2/2020</td>\n",
       "    </tr>\n",
       "    <tr>\n",
       "      <th>3</th>\n",
       "      <td>3</td>\n",
       "      <td>22203</td>\n",
       "      <td>F</td>\n",
       "      <td>07/08/2024</td>\n",
       "      <td>12</td>\n",
       "      <td>445</td>\n",
       "      <td>80</td>\n",
       "      <td>1</td>\n",
       "      <td>800</td>\n",
       "      <td>3/2020</td>\n",
       "    </tr>\n",
       "    <tr>\n",
       "      <th>4</th>\n",
       "      <td>3</td>\n",
       "      <td>9377</td>\n",
       "      <td>F</td>\n",
       "      <td>07/08/2024</td>\n",
       "      <td>2</td>\n",
       "      <td>110</td>\n",
       "      <td>10</td>\n",
       "      <td>1</td>\n",
       "      <td>800</td>\n",
       "      <td>5/2020</td>\n",
       "    </tr>\n",
       "  </tbody>\n",
       "</table>\n",
       "</div>"
      ],
      "text/plain": [
       "   NROEMPRESA  COD_CLIENTE TIPO_PESSOA DATA_ULTIMA_COMPRA  NUMERO_VISITAS  \\\n",
       "0           3        13434           F         06/08/2024               1   \n",
       "1           3         3203           F         30/01/2022              16   \n",
       "2           2         2590           F         08/08/2024               2   \n",
       "3           3        22203           F         07/08/2024              12   \n",
       "4           3         9377           F         07/08/2024               2   \n",
       "\n",
       "   VALOR_TOTAL  QUANTIDADE_PRODUTOS  SEGMENTO  CGO MES_ANO  \n",
       "0           51                    5         1  800  1/2020  \n",
       "1          870                  148         1  800  2/2020  \n",
       "2          100                    4         1  800  2/2020  \n",
       "3          445                   80         1  800  3/2020  \n",
       "4          110                   10         1  800  5/2020  "
      ]
     },
     "execution_count": 9,
     "metadata": {},
     "output_type": "execute_result"
    }
   ],
   "source": [
    "dados.head()"
   ]
  },
  {
   "cell_type": "code",
   "execution_count": 10,
   "id": "0dffa808-85cf-4bf1-947b-851c46566fe0",
   "metadata": {},
   "outputs": [
    {
     "data": {
      "text/plain": [
       "NROEMPRESA              int64\n",
       "COD_CLIENTE             int64\n",
       "TIPO_PESSOA            object\n",
       "DATA_ULTIMA_COMPRA     object\n",
       "NUMERO_VISITAS          int64\n",
       "VALOR_TOTAL             int64\n",
       "QUANTIDADE_PRODUTOS     int64\n",
       "SEGMENTO                int64\n",
       "CGO                     int64\n",
       "MES_ANO                object\n",
       "dtype: object"
      ]
     },
     "execution_count": 10,
     "metadata": {},
     "output_type": "execute_result"
    }
   ],
   "source": [
    "dados.dtypes"
   ]
  },
  {
   "cell_type": "code",
   "execution_count": 11,
   "id": "e4a7fd51-253b-441c-addd-45d7110d291c",
   "metadata": {},
   "outputs": [
    {
     "data": {
      "text/plain": [
       "NROEMPRESA              0\n",
       "COD_CLIENTE             0\n",
       "TIPO_PESSOA            28\n",
       "DATA_ULTIMA_COMPRA      0\n",
       "NUMERO_VISITAS          0\n",
       "VALOR_TOTAL             0\n",
       "QUANTIDADE_PRODUTOS     0\n",
       "SEGMENTO                0\n",
       "CGO                     0\n",
       "MES_ANO                 0\n",
       "dtype: int64"
      ]
     },
     "execution_count": 11,
     "metadata": {},
     "output_type": "execute_result"
    }
   ],
   "source": [
    "#Verificando valores inválidos\n",
    "dados.isna().sum()"
   ]
  },
  {
   "cell_type": "code",
   "execution_count": 12,
   "id": "5dbc4178-9bf1-4b2f-bb47-8648dde0c1f4",
   "metadata": {},
   "outputs": [
    {
     "data": {
      "text/plain": [
       "Index([   9519,  149544,  151479,  187745,  238456,  525057,  595601,  605170,\n",
       "        653794,  662356,  794933,  856816,  912891,  922783,  992003, 1014049,\n",
       "       1022264, 1064241, 1091357, 1106120, 1132468, 1139112, 1154790, 1182348,\n",
       "       1187976, 1230862, 1312838, 1370518],\n",
       "      dtype='int64')"
      ]
     },
     "execution_count": 12,
     "metadata": {},
     "output_type": "execute_result"
    }
   ],
   "source": [
    "dados_nulos = dados[dados['TIPO_PESSOA'].isna()].index\n",
    "dados_nulos"
   ]
  },
  {
   "cell_type": "code",
   "execution_count": 13,
   "id": "f9249cc9-f555-47f9-9daf-77b2b84edf1d",
   "metadata": {},
   "outputs": [],
   "source": [
    "dados.drop(dados_nulos, axis=0, inplace=True)"
   ]
  },
  {
   "cell_type": "code",
   "execution_count": 16,
   "id": "9c3c9ad7",
   "metadata": {},
   "outputs": [
    {
     "data": {
      "text/plain": [
       "1          False\n",
       "2          False\n",
       "3          False\n",
       "4          False\n",
       "5          False\n",
       "           ...  \n",
       "1728296    False\n",
       "1728297    False\n",
       "1728298    False\n",
       "1728299    False\n",
       "1728300    False\n",
       "Name: VALOR_TOTAL, Length: 1724124, dtype: bool"
      ]
     },
     "execution_count": 16,
     "metadata": {},
     "output_type": "execute_result"
    }
   ],
   "source": [
    "#Verificando se na coluna VALOR_TOTAL possui valores não numéricos\n",
    "mask = pd.to_numeric(dados['VALOR_TOTAL'], errors='coerce').isnull()\n",
    "mask"
   ]
  },
  {
   "cell_type": "code",
   "execution_count": 14,
   "id": "91191617",
   "metadata": {},
   "outputs": [],
   "source": [
    "#Removendo os NaN\n",
    "dados = dados.dropna(subset=['VALOR_TOTAL'])"
   ]
  },
  {
   "cell_type": "code",
   "execution_count": 15,
   "id": "e5af36e1",
   "metadata": {},
   "outputs": [
    {
     "name": "stdout",
     "output_type": "stream",
     "text": [
      "True\n"
     ]
    }
   ],
   "source": [
    "#Verificar se ainda há valores não númericos na coluna\n",
    "print(dados['VALOR_TOTAL'].apply(lambda x : isinstance(x,(int, float))).all())"
   ]
  },
  {
   "cell_type": "code",
   "execution_count": 16,
   "id": "c8092e5d",
   "metadata": {},
   "outputs": [
    {
     "data": {
      "text/html": [
       "<div>\n",
       "<style scoped>\n",
       "    .dataframe tbody tr th:only-of-type {\n",
       "        vertical-align: middle;\n",
       "    }\n",
       "\n",
       "    .dataframe tbody tr th {\n",
       "        vertical-align: top;\n",
       "    }\n",
       "\n",
       "    .dataframe thead th {\n",
       "        text-align: right;\n",
       "    }\n",
       "</style>\n",
       "<table border=\"1\" class=\"dataframe\">\n",
       "  <thead>\n",
       "    <tr style=\"text-align: right;\">\n",
       "      <th></th>\n",
       "      <th>NROEMPRESA</th>\n",
       "      <th>COD_CLIENTE</th>\n",
       "      <th>TIPO_PESSOA</th>\n",
       "      <th>DATA_ULTIMA_COMPRA</th>\n",
       "      <th>NUMERO_VISITAS</th>\n",
       "      <th>VALOR_TOTAL</th>\n",
       "      <th>QUANTIDADE_PRODUTOS</th>\n",
       "      <th>SEGMENTO</th>\n",
       "      <th>CGO</th>\n",
       "      <th>MES_ANO</th>\n",
       "    </tr>\n",
       "  </thead>\n",
       "  <tbody>\n",
       "  </tbody>\n",
       "</table>\n",
       "</div>"
      ],
      "text/plain": [
       "Empty DataFrame\n",
       "Columns: [NROEMPRESA, COD_CLIENTE, TIPO_PESSOA, DATA_ULTIMA_COMPRA, NUMERO_VISITAS, VALOR_TOTAL, QUANTIDADE_PRODUTOS, SEGMENTO, CGO, MES_ANO]\n",
       "Index: []"
      ]
     },
     "execution_count": 16,
     "metadata": {},
     "output_type": "execute_result"
    }
   ],
   "source": [
    "nao_numerico = dados.query('VALOR_TOTAL == \"Quinta\"')\n",
    "nao_numerico"
   ]
  },
  {
   "cell_type": "code",
   "execution_count": 28,
   "id": "4b715557",
   "metadata": {},
   "outputs": [
    {
     "data": {
      "text/plain": [
       "NROEMPRESA              int64\n",
       "COD_CLIENTE             int64\n",
       "DATA_ULTIMA_COMPRA     object\n",
       "FREQUENCIA_VISITA       int64\n",
       "VALOR_TOTAL             int64\n",
       "MES_ANO                object\n",
       "QUANTIDADE_PRODUTOS     int64\n",
       "CGO                     int64\n",
       "dtype: object"
      ]
     },
     "execution_count": 28,
     "metadata": {},
     "output_type": "execute_result"
    }
   ],
   "source": [
    "dados.dtypes"
   ]
  },
  {
   "cell_type": "code",
   "execution_count": 15,
   "id": "007da333",
   "metadata": {},
   "outputs": [],
   "source": [
    "#dados['VALOR_TOTAL'] = dados['VALOR_TOTAL'].astype('int64')\n",
    "#dados['COD_CLIENTE'] = dados['COD_CLIENTE'].astype('string')"
   ]
  },
  {
   "cell_type": "code",
   "execution_count": 17,
   "id": "f9070ac4",
   "metadata": {},
   "outputs": [
    {
     "data": {
      "text/plain": [
       "NROEMPRESA              int64\n",
       "COD_CLIENTE             int64\n",
       "TIPO_PESSOA            object\n",
       "DATA_ULTIMA_COMPRA     object\n",
       "NUMERO_VISITAS          int64\n",
       "VALOR_TOTAL             int64\n",
       "QUANTIDADE_PRODUTOS     int64\n",
       "SEGMENTO                int64\n",
       "CGO                     int64\n",
       "MES_ANO                object\n",
       "dtype: object"
      ]
     },
     "execution_count": 17,
     "metadata": {},
     "output_type": "execute_result"
    }
   ],
   "source": [
    "dados.dtypes"
   ]
  },
  {
   "cell_type": "code",
   "execution_count": 18,
   "id": "ad71317a",
   "metadata": {},
   "outputs": [],
   "source": [
    "#dados['VALOR_TOTAL'] = dados['VALOR_TOTAL'].astype('int64')\n",
    "#dados['COD_CLIENTE'] = dados['COD_CLIENTE'].astype('string')\n",
    "#dados['NROEMPRESA'] = dados['NROEMPRESA'].astype('string')"
   ]
  },
  {
   "cell_type": "code",
   "execution_count": 19,
   "id": "52b88b4b",
   "metadata": {},
   "outputs": [
    {
     "data": {
      "text/plain": [
       "NROEMPRESA                  string\n",
       "COD_CLIENTE                 string\n",
       "TIPO_PESSOA                 object\n",
       "DATA_ULTIMA_COMPRA          object\n",
       "DIAS_DESDE_ULTIMA_COMPRA     int64\n",
       "NUMERO_VISITAS               int64\n",
       "VALOR_TOTAL                  int64\n",
       "DIA_SEMANA                  object\n",
       "QUANTIDADE_PRODUTOS          int64\n",
       "SEGMENTO                     int64\n",
       "CGO                         object\n",
       "MES_ANO                     object\n",
       "dtype: object"
      ]
     },
     "execution_count": 19,
     "metadata": {},
     "output_type": "execute_result"
    }
   ],
   "source": [
    "#dados.dtypes"
   ]
  },
  {
   "cell_type": "code",
   "execution_count": 20,
   "id": "f25a4df9",
   "metadata": {},
   "outputs": [
    {
     "data": {
      "text/plain": [
       "131072    False\n",
       "131073    False\n",
       "131074    False\n",
       "131075    False\n",
       "131076    False\n",
       "          ...  \n",
       "196603    False\n",
       "196604    False\n",
       "196605    False\n",
       "196606    False\n",
       "196607    False\n",
       "Name: CGO, Length: 65531, dtype: bool"
      ]
     },
     "execution_count": 20,
     "metadata": {},
     "output_type": "execute_result"
    }
   ],
   "source": [
    "#mask_cgo = pd.to_numeric(dados['CGO'], errors='coerce').isnull()\n",
    "#mask_cgo"
   ]
  },
  {
   "cell_type": "code",
   "execution_count": 21,
   "id": "b12b58c0",
   "metadata": {},
   "outputs": [],
   "source": [
    "#Removendo os NaN\n",
    "#dados = dados.dropna(subset=['CGO'])"
   ]
  },
  {
   "cell_type": "code",
   "execution_count": 22,
   "id": "e44b5a5e",
   "metadata": {},
   "outputs": [
    {
     "name": "stdout",
     "output_type": "stream",
     "text": [
      "True\n"
     ]
    }
   ],
   "source": [
    "#Verificar se ainda há valores não númericos na coluna\n",
    "#print(dados['CGO'].apply(lambda x : isinstance(x,(int, float))).all())"
   ]
  },
  {
   "cell_type": "code",
   "execution_count": 18,
   "id": "0fa82828",
   "metadata": {},
   "outputs": [],
   "source": [
    "dados.to_csv('./CSV/clientes_jan2020_dez2023.csv')"
   ]
  },
  {
   "cell_type": "code",
   "execution_count": null,
   "id": "2f7498a7",
   "metadata": {},
   "outputs": [],
   "source": []
  }
 ],
 "metadata": {
  "kernelspec": {
   "display_name": "Python 3 (ipykernel)",
   "language": "python",
   "name": "python3"
  },
  "language_info": {
   "codemirror_mode": {
    "name": "ipython",
    "version": 3
   },
   "file_extension": ".py",
   "mimetype": "text/x-python",
   "name": "python",
   "nbconvert_exporter": "python",
   "pygments_lexer": "ipython3",
   "version": "3.12.4"
  }
 },
 "nbformat": 4,
 "nbformat_minor": 5
}
